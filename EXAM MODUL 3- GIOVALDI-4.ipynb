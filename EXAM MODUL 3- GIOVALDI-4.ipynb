{
 "cells": [
  {
   "cell_type": "markdown",
   "metadata": {},
   "source": [
    "# HEART\n",
    "Giovaldi RC"
   ]
  },
  {
   "cell_type": "markdown",
   "metadata": {},
   "source": [
    "# IMPORT DATA"
   ]
  },
  {
   "cell_type": "code",
   "execution_count": 60,
   "metadata": {},
   "outputs": [],
   "source": [
    "import pandas as pd\n",
    "import numpy as np\n",
    "import matplotlib.pyplot as plt\n",
    "import seaborn as sns\n",
    "import warnings\n",
    "warnings.filterwarnings('ignore')\n",
    "from scipy import stats\n",
    "from sklearn.ensemble import RandomForestClassifier\n",
    "from sklearn.linear_model import LogisticRegression\n",
    "from sklearn.model_selection import train_test_split\n",
    "from sklearn.metrics import confusion_matrix\n",
    "from sklearn.metrics import classification_report\n",
    "from sklearn.tree import DecisionTreeClassifier\n",
    "from sklearn.metrics import recall_score, roc_auc_score, precision_score, f1_score,accuracy_score\n",
    "from sklearn.preprocessing import StandardScaler\n",
    "from sklearn.model_selection import GridSearchCV\n",
    "import pickle\n",
    "from xgboost import XGBClassifier\n",
    "\n",
    "\n",
    "\n",
    "pd.set_option('display.max_columns', 200)\n",
    "pd.set_option('display.max_rows', 300)\n",
    "%matplotlib inline"
   ]
  },
  {
   "cell_type": "code",
   "execution_count": 2,
   "metadata": {},
   "outputs": [],
   "source": [
    "from jupyterthemes import jtplot\n",
    "jtplot.style(theme='monokai')"
   ]
  },
  {
   "cell_type": "markdown",
   "metadata": {},
   "source": [
    "# Defining Problem (Tentukan Masalah yang Ingin Anda Pecahkan) (5 point)"
   ]
  },
  {
   "cell_type": "markdown",
   "metadata": {},
   "source": [
    "- Mengidentifikasi pengaruh usia dan gender terhadap potensi untuk terkena penyakit jantung\n",
    "- Mengidentifikasi apa faktor-faktor penyakit jantung \n",
    "- Mengidentifikasi pasien yang mengidap penyakit jantung dan tidak dengan metode klasifikasi"
   ]
  },
  {
   "cell_type": "markdown",
   "metadata": {},
   "source": [
    "# Defining Project Goals (Tentukan Tujuan dari Project Anda) (5 point)"
   ]
  },
  {
   "cell_type": "markdown",
   "metadata": {},
   "source": [
    "- mendapatkan usia dan gender yang paling berpotensi terdampak penyakit jantung\n",
    "- mendapatkan faktor-faktor lain yang mempengaruhi penyakit jantung\n",
    "- mendapatkan model untuk mengklasifikasikan pasien yang mengidap penyakit jantung dan tidak"
   ]
  },
  {
   "cell_type": "markdown",
   "metadata": {},
   "source": [
    "# Describe Data - Termasuk Handling Missing Value (5 point)"
   ]
  },
  {
   "cell_type": "code",
   "execution_count": 3,
   "metadata": {},
   "outputs": [],
   "source": [
    "heart = pd.read_csv('./Desktop/heart.csv')"
   ]
  },
  {
   "cell_type": "code",
   "execution_count": 4,
   "metadata": {},
   "outputs": [
    {
     "data": {
      "text/html": [
       "<div>\n",
       "<style scoped>\n",
       "    .dataframe tbody tr th:only-of-type {\n",
       "        vertical-align: middle;\n",
       "    }\n",
       "\n",
       "    .dataframe tbody tr th {\n",
       "        vertical-align: top;\n",
       "    }\n",
       "\n",
       "    .dataframe thead th {\n",
       "        text-align: right;\n",
       "    }\n",
       "</style>\n",
       "<table border=\"1\" class=\"dataframe\">\n",
       "  <thead>\n",
       "    <tr style=\"text-align: right;\">\n",
       "      <th></th>\n",
       "      <th>age</th>\n",
       "      <th>sex</th>\n",
       "      <th>cp</th>\n",
       "      <th>trestbps</th>\n",
       "      <th>chol</th>\n",
       "      <th>fbs</th>\n",
       "      <th>restecg</th>\n",
       "      <th>thalach</th>\n",
       "      <th>exang</th>\n",
       "      <th>oldpeak</th>\n",
       "      <th>slope</th>\n",
       "      <th>ca</th>\n",
       "      <th>thal</th>\n",
       "      <th>target</th>\n",
       "    </tr>\n",
       "  </thead>\n",
       "  <tbody>\n",
       "    <tr>\n",
       "      <th>0</th>\n",
       "      <td>63</td>\n",
       "      <td>1</td>\n",
       "      <td>3</td>\n",
       "      <td>145</td>\n",
       "      <td>233</td>\n",
       "      <td>1</td>\n",
       "      <td>0</td>\n",
       "      <td>150</td>\n",
       "      <td>0</td>\n",
       "      <td>2.3</td>\n",
       "      <td>0</td>\n",
       "      <td>0</td>\n",
       "      <td>1</td>\n",
       "      <td>1</td>\n",
       "    </tr>\n",
       "    <tr>\n",
       "      <th>1</th>\n",
       "      <td>37</td>\n",
       "      <td>1</td>\n",
       "      <td>2</td>\n",
       "      <td>130</td>\n",
       "      <td>250</td>\n",
       "      <td>0</td>\n",
       "      <td>1</td>\n",
       "      <td>187</td>\n",
       "      <td>0</td>\n",
       "      <td>3.5</td>\n",
       "      <td>0</td>\n",
       "      <td>0</td>\n",
       "      <td>2</td>\n",
       "      <td>1</td>\n",
       "    </tr>\n",
       "    <tr>\n",
       "      <th>2</th>\n",
       "      <td>41</td>\n",
       "      <td>0</td>\n",
       "      <td>1</td>\n",
       "      <td>130</td>\n",
       "      <td>204</td>\n",
       "      <td>0</td>\n",
       "      <td>0</td>\n",
       "      <td>172</td>\n",
       "      <td>0</td>\n",
       "      <td>1.4</td>\n",
       "      <td>2</td>\n",
       "      <td>0</td>\n",
       "      <td>2</td>\n",
       "      <td>1</td>\n",
       "    </tr>\n",
       "    <tr>\n",
       "      <th>3</th>\n",
       "      <td>56</td>\n",
       "      <td>1</td>\n",
       "      <td>1</td>\n",
       "      <td>120</td>\n",
       "      <td>236</td>\n",
       "      <td>0</td>\n",
       "      <td>1</td>\n",
       "      <td>178</td>\n",
       "      <td>0</td>\n",
       "      <td>0.8</td>\n",
       "      <td>2</td>\n",
       "      <td>0</td>\n",
       "      <td>2</td>\n",
       "      <td>1</td>\n",
       "    </tr>\n",
       "    <tr>\n",
       "      <th>4</th>\n",
       "      <td>57</td>\n",
       "      <td>0</td>\n",
       "      <td>0</td>\n",
       "      <td>120</td>\n",
       "      <td>354</td>\n",
       "      <td>0</td>\n",
       "      <td>1</td>\n",
       "      <td>163</td>\n",
       "      <td>1</td>\n",
       "      <td>0.6</td>\n",
       "      <td>2</td>\n",
       "      <td>0</td>\n",
       "      <td>2</td>\n",
       "      <td>1</td>\n",
       "    </tr>\n",
       "  </tbody>\n",
       "</table>\n",
       "</div>"
      ],
      "text/plain": [
       "   age  sex  cp  trestbps  chol  fbs  restecg  thalach  exang  oldpeak  slope  \\\n",
       "0   63    1   3       145   233    1        0      150      0      2.3      0   \n",
       "1   37    1   2       130   250    0        1      187      0      3.5      0   \n",
       "2   41    0   1       130   204    0        0      172      0      1.4      2   \n",
       "3   56    1   1       120   236    0        1      178      0      0.8      2   \n",
       "4   57    0   0       120   354    0        1      163      1      0.6      2   \n",
       "\n",
       "   ca  thal  target  \n",
       "0   0     1       1  \n",
       "1   0     2       1  \n",
       "2   0     2       1  \n",
       "3   0     2       1  \n",
       "4   0     2       1  "
      ]
     },
     "execution_count": 4,
     "metadata": {},
     "output_type": "execute_result"
    }
   ],
   "source": [
    "heart.head()"
   ]
  },
  {
   "cell_type": "code",
   "execution_count": 5,
   "metadata": {},
   "outputs": [
    {
     "data": {
      "text/plain": [
       "(303, 14)"
      ]
     },
     "execution_count": 5,
     "metadata": {},
     "output_type": "execute_result"
    }
   ],
   "source": [
    "heart.shape"
   ]
  },
  {
   "cell_type": "code",
   "execution_count": 6,
   "metadata": {},
   "outputs": [
    {
     "data": {
      "text/plain": [
       "Index(['age', 'sex', 'cp', 'trestbps', 'chol', 'fbs', 'restecg', 'thalach',\n",
       "       'exang', 'oldpeak', 'slope', 'ca', 'thal', 'target'],\n",
       "      dtype='object')"
      ]
     },
     "execution_count": 6,
     "metadata": {},
     "output_type": "execute_result"
    }
   ],
   "source": [
    "heart.columns"
   ]
  },
  {
   "cell_type": "code",
   "execution_count": 7,
   "metadata": {},
   "outputs": [],
   "source": [
    "heart_describe =[]\n",
    "\n",
    "for i in heart.columns:\n",
    "    heart_describe.append([\n",
    "        i,\n",
    "        heart[i].dtypes,\n",
    "        heart[i].isna().sum(),\n",
    "        round((((heart[i].isna().sum())/(len(heart)))*100),2),\n",
    "        heart[i].nunique(),\n",
    "        heart[i].unique()\n",
    "    ])"
   ]
  },
  {
   "cell_type": "code",
   "execution_count": 8,
   "metadata": {},
   "outputs": [
    {
     "data": {
      "text/html": [
       "<div>\n",
       "<style scoped>\n",
       "    .dataframe tbody tr th:only-of-type {\n",
       "        vertical-align: middle;\n",
       "    }\n",
       "\n",
       "    .dataframe tbody tr th {\n",
       "        vertical-align: top;\n",
       "    }\n",
       "\n",
       "    .dataframe thead th {\n",
       "        text-align: right;\n",
       "    }\n",
       "</style>\n",
       "<table border=\"1\" class=\"dataframe\">\n",
       "  <thead>\n",
       "    <tr style=\"text-align: right;\">\n",
       "      <th></th>\n",
       "      <th>column</th>\n",
       "      <th>type</th>\n",
       "      <th>nan</th>\n",
       "      <th>nan%</th>\n",
       "      <th>nunique</th>\n",
       "      <th>unique</th>\n",
       "    </tr>\n",
       "  </thead>\n",
       "  <tbody>\n",
       "    <tr>\n",
       "      <th>0</th>\n",
       "      <td>age</td>\n",
       "      <td>int64</td>\n",
       "      <td>0</td>\n",
       "      <td>0.0</td>\n",
       "      <td>41</td>\n",
       "      <td>[63, 37, 41, 56, 57, 44, 52, 54, 48, 49, 64, 5...</td>\n",
       "    </tr>\n",
       "    <tr>\n",
       "      <th>1</th>\n",
       "      <td>sex</td>\n",
       "      <td>int64</td>\n",
       "      <td>0</td>\n",
       "      <td>0.0</td>\n",
       "      <td>2</td>\n",
       "      <td>[1, 0]</td>\n",
       "    </tr>\n",
       "    <tr>\n",
       "      <th>2</th>\n",
       "      <td>cp</td>\n",
       "      <td>int64</td>\n",
       "      <td>0</td>\n",
       "      <td>0.0</td>\n",
       "      <td>4</td>\n",
       "      <td>[3, 2, 1, 0]</td>\n",
       "    </tr>\n",
       "    <tr>\n",
       "      <th>3</th>\n",
       "      <td>trestbps</td>\n",
       "      <td>int64</td>\n",
       "      <td>0</td>\n",
       "      <td>0.0</td>\n",
       "      <td>49</td>\n",
       "      <td>[145, 130, 120, 140, 172, 150, 110, 135, 160, ...</td>\n",
       "    </tr>\n",
       "    <tr>\n",
       "      <th>4</th>\n",
       "      <td>chol</td>\n",
       "      <td>int64</td>\n",
       "      <td>0</td>\n",
       "      <td>0.0</td>\n",
       "      <td>152</td>\n",
       "      <td>[233, 250, 204, 236, 354, 192, 294, 263, 199, ...</td>\n",
       "    </tr>\n",
       "    <tr>\n",
       "      <th>5</th>\n",
       "      <td>fbs</td>\n",
       "      <td>int64</td>\n",
       "      <td>0</td>\n",
       "      <td>0.0</td>\n",
       "      <td>2</td>\n",
       "      <td>[1, 0]</td>\n",
       "    </tr>\n",
       "    <tr>\n",
       "      <th>6</th>\n",
       "      <td>restecg</td>\n",
       "      <td>int64</td>\n",
       "      <td>0</td>\n",
       "      <td>0.0</td>\n",
       "      <td>3</td>\n",
       "      <td>[0, 1, 2]</td>\n",
       "    </tr>\n",
       "    <tr>\n",
       "      <th>7</th>\n",
       "      <td>thalach</td>\n",
       "      <td>int64</td>\n",
       "      <td>0</td>\n",
       "      <td>0.0</td>\n",
       "      <td>91</td>\n",
       "      <td>[150, 187, 172, 178, 163, 148, 153, 173, 162, ...</td>\n",
       "    </tr>\n",
       "    <tr>\n",
       "      <th>8</th>\n",
       "      <td>exang</td>\n",
       "      <td>int64</td>\n",
       "      <td>0</td>\n",
       "      <td>0.0</td>\n",
       "      <td>2</td>\n",
       "      <td>[0, 1]</td>\n",
       "    </tr>\n",
       "    <tr>\n",
       "      <th>9</th>\n",
       "      <td>oldpeak</td>\n",
       "      <td>float64</td>\n",
       "      <td>0</td>\n",
       "      <td>0.0</td>\n",
       "      <td>40</td>\n",
       "      <td>[2.3, 3.5, 1.4, 0.8, 0.6, 0.4, 1.3, 0.0, 0.5, ...</td>\n",
       "    </tr>\n",
       "    <tr>\n",
       "      <th>10</th>\n",
       "      <td>slope</td>\n",
       "      <td>int64</td>\n",
       "      <td>0</td>\n",
       "      <td>0.0</td>\n",
       "      <td>3</td>\n",
       "      <td>[0, 2, 1]</td>\n",
       "    </tr>\n",
       "    <tr>\n",
       "      <th>11</th>\n",
       "      <td>ca</td>\n",
       "      <td>int64</td>\n",
       "      <td>0</td>\n",
       "      <td>0.0</td>\n",
       "      <td>5</td>\n",
       "      <td>[0, 2, 1, 3, 4]</td>\n",
       "    </tr>\n",
       "    <tr>\n",
       "      <th>12</th>\n",
       "      <td>thal</td>\n",
       "      <td>int64</td>\n",
       "      <td>0</td>\n",
       "      <td>0.0</td>\n",
       "      <td>4</td>\n",
       "      <td>[1, 2, 3, 0]</td>\n",
       "    </tr>\n",
       "    <tr>\n",
       "      <th>13</th>\n",
       "      <td>target</td>\n",
       "      <td>int64</td>\n",
       "      <td>0</td>\n",
       "      <td>0.0</td>\n",
       "      <td>2</td>\n",
       "      <td>[1, 0]</td>\n",
       "    </tr>\n",
       "  </tbody>\n",
       "</table>\n",
       "</div>"
      ],
      "text/plain": [
       "      column     type  nan  nan%  nunique  \\\n",
       "0        age    int64    0   0.0       41   \n",
       "1        sex    int64    0   0.0        2   \n",
       "2         cp    int64    0   0.0        4   \n",
       "3   trestbps    int64    0   0.0       49   \n",
       "4       chol    int64    0   0.0      152   \n",
       "5        fbs    int64    0   0.0        2   \n",
       "6    restecg    int64    0   0.0        3   \n",
       "7    thalach    int64    0   0.0       91   \n",
       "8      exang    int64    0   0.0        2   \n",
       "9    oldpeak  float64    0   0.0       40   \n",
       "10     slope    int64    0   0.0        3   \n",
       "11        ca    int64    0   0.0        5   \n",
       "12      thal    int64    0   0.0        4   \n",
       "13    target    int64    0   0.0        2   \n",
       "\n",
       "                                               unique  \n",
       "0   [63, 37, 41, 56, 57, 44, 52, 54, 48, 49, 64, 5...  \n",
       "1                                              [1, 0]  \n",
       "2                                        [3, 2, 1, 0]  \n",
       "3   [145, 130, 120, 140, 172, 150, 110, 135, 160, ...  \n",
       "4   [233, 250, 204, 236, 354, 192, 294, 263, 199, ...  \n",
       "5                                              [1, 0]  \n",
       "6                                           [0, 1, 2]  \n",
       "7   [150, 187, 172, 178, 163, 148, 153, 173, 162, ...  \n",
       "8                                              [0, 1]  \n",
       "9   [2.3, 3.5, 1.4, 0.8, 0.6, 0.4, 1.3, 0.0, 0.5, ...  \n",
       "10                                          [0, 2, 1]  \n",
       "11                                    [0, 2, 1, 3, 4]  \n",
       "12                                       [1, 2, 3, 0]  \n",
       "13                                             [1, 0]  "
      ]
     },
     "execution_count": 8,
     "metadata": {},
     "output_type": "execute_result"
    }
   ],
   "source": [
    "DESC = pd.DataFrame(heart_describe, columns=['column','type','nan','nan%','nunique','unique'])\n",
    "DESC"
   ]
  },
  {
   "cell_type": "markdown",
   "metadata": {},
   "source": [
    "### Berdasarkan data diatas, dapat dilihat terdapat 12 kolom yang memiliki 11 type data integer dan 1 kolom type data float. Untuk persentase serta jumlah NaN tidak terlihat adanya. Untuk selanjutnya akan dilakukan pengecekan terhadap duplicated value dan handling outliers"
   ]
  },
  {
   "cell_type": "code",
   "execution_count": 9,
   "metadata": {},
   "outputs": [
    {
     "data": {
      "text/plain": [
       "1"
      ]
     },
     "execution_count": 9,
     "metadata": {},
     "output_type": "execute_result"
    }
   ],
   "source": [
    "heart.duplicated().sum()"
   ]
  },
  {
   "cell_type": "code",
   "execution_count": 10,
   "metadata": {},
   "outputs": [],
   "source": [
    "heart = heart.drop_duplicates()"
   ]
  },
  {
   "cell_type": "markdown",
   "metadata": {},
   "source": [
    "### Berdasarkan penelusuruan sum diatas, terdapat 1 data duplikasi, sehingga di drop"
   ]
  },
  {
   "cell_type": "markdown",
   "metadata": {},
   "source": [
    "# Handling Outiers / Imbalance data (5 point)\n",
    "\n",
    "sumber referensi :\n",
    "https://towardsdatascience.com/ways-to-detect-and-remove-the-outliers-404d16608dba"
   ]
  },
  {
   "cell_type": "markdown",
   "metadata": {},
   "source": [
    "# Data Analysis (Gunakan salah satu atau beberapa pandas methods crosstab, pivot table, group by ) (10 point)\n",
    "#\n",
    "\n",
    "- https://python-graph-gallery.com buat seaborn,matplotlib\n",
    "- https://pandas.pydata.org/pandas-docs/stable/user_guide/visualization.html buat pandas\n",
    "- https://pandas.pydata.org/pandas-docs/stable/user_guide/reshaping.html buat pandas pivot table"
   ]
  },
  {
   "cell_type": "code",
   "execution_count": 13,
   "metadata": {},
   "outputs": [
    {
     "data": {
      "text/plain": [
       "<matplotlib.axes._subplots.AxesSubplot at 0x7f88a6863250>"
      ]
     },
     "execution_count": 13,
     "metadata": {},
     "output_type": "execute_result"
    },
    {
     "data": {
      "image/png": "[encoded data removed]",
      "text/plain": [
       "<Figure size 1440x1440 with 2 Axes>"
      ]
     },
     "metadata": {},
     "output_type": "display_data"
    }
   ],
   "source": [
    "plt.figure(figsize=(20, 20))\n",
    "sns.heatmap(heart.corr('pearson'),annot=True)"
   ]
  },
  {
   "cell_type": "markdown",
   "metadata": {},
   "source": [
    "\n",
    "\n",
    "# Data Visualization (Plot yang harus ada adalah histogram dan boxplot selain yang memang anda butuhkan) (10 point)\n",
    "\n",
    "# Insight Data setiap data analysis dan data visualization yang dilakukan (5 point)\n",
    "\n",
    "- https://python-graph-gallery.com buat seaborn,matplotlib\n",
    "- https://pandas.pydata.org/pandas-docs/stable/user_guide/visualization.html buat pandas\n",
    "- https://pandas.pydata.org/pandas-docs/stable/user_guide/reshaping.html buat pandas pivot table\n",
    "- https://www.youtube.com/watch?v=FkFRGo4pBds buat contoh kasus"
   ]
  },
  {
   "cell_type": "markdown",
   "metadata": {},
   "source": [
    "## TARGET"
   ]
  },
  {
   "cell_type": "code",
   "execution_count": 14,
   "metadata": {},
   "outputs": [
    {
     "data": {
      "text/plain": [
       "target      1.000\n",
       "cp          0.432\n",
       "thalach     0.420\n",
       "slope       0.344\n",
       "restecg     0.135\n",
       "fbs        -0.027\n",
       "chol       -0.081\n",
       "trestbps   -0.146\n",
       "age        -0.221\n",
       "sex        -0.284\n",
       "thal       -0.343\n",
       "ca         -0.409\n",
       "oldpeak    -0.429\n",
       "exang      -0.436\n",
       "Name: target, dtype: float64"
      ]
     },
     "execution_count": 14,
     "metadata": {},
     "output_type": "execute_result"
    }
   ],
   "source": [
    "heart.corr()['target'].sort_values(ascending=False).round(3)"
   ]
  },
  {
   "cell_type": "code",
   "execution_count": 15,
   "metadata": {},
   "outputs": [
    {
     "data": {
      "text/plain": [
       "1    164\n",
       "0    138\n",
       "Name: target, dtype: int64"
      ]
     },
     "execution_count": 15,
     "metadata": {},
     "output_type": "execute_result"
    }
   ],
   "source": [
    "heart.target.value_counts()"
   ]
  },
  {
   "cell_type": "code",
   "execution_count": 16,
   "metadata": {},
   "outputs": [
    {
     "data": {
      "image/png": "[encoded data removed]",
      "text/plain": [
       "<Figure size 720x720 with 1 Axes>"
      ]
     },
     "metadata": {},
     "output_type": "display_data"
    }
   ],
   "source": [
    "plt.figure(figsize=(10, 10))\n",
    "sns.countplot(x='target', data=heart)\n",
    "plt.show()"
   ]
  },
  {
   "cell_type": "markdown",
   "metadata": {},
   "source": [
    "Berdasarkan data diatas, dapat dilihat bahwa target 1 atau memiliki penyakit jantung teridentifikasi memiliki angka lebih banyak dibandingkan dengan target 2 atau yang tidak memiliki penyakit jantung"
   ]
  },
  {
   "cell_type": "code",
   "execution_count": 17,
   "metadata": {},
   "outputs": [
    {
     "data": {
      "text/html": [
       "<div>\n",
       "<style scoped>\n",
       "    .dataframe tbody tr th:only-of-type {\n",
       "        vertical-align: middle;\n",
       "    }\n",
       "\n",
       "    .dataframe tbody tr th {\n",
       "        vertical-align: top;\n",
       "    }\n",
       "\n",
       "    .dataframe thead th {\n",
       "        text-align: right;\n",
       "    }\n",
       "</style>\n",
       "<table border=\"1\" class=\"dataframe\">\n",
       "  <thead>\n",
       "    <tr style=\"text-align: right;\">\n",
       "      <th></th>\n",
       "      <th>age</th>\n",
       "      <th>sex</th>\n",
       "      <th>cp</th>\n",
       "      <th>trestbps</th>\n",
       "      <th>chol</th>\n",
       "      <th>fbs</th>\n",
       "      <th>restecg</th>\n",
       "      <th>thalach</th>\n",
       "      <th>exang</th>\n",
       "      <th>oldpeak</th>\n",
       "      <th>slope</th>\n",
       "      <th>ca</th>\n",
       "      <th>thal</th>\n",
       "    </tr>\n",
       "    <tr>\n",
       "      <th>target</th>\n",
       "      <th></th>\n",
       "      <th></th>\n",
       "      <th></th>\n",
       "      <th></th>\n",
       "      <th></th>\n",
       "      <th></th>\n",
       "      <th></th>\n",
       "      <th></th>\n",
       "      <th></th>\n",
       "      <th></th>\n",
       "      <th></th>\n",
       "      <th></th>\n",
       "      <th></th>\n",
       "    </tr>\n",
       "  </thead>\n",
       "  <tbody>\n",
       "    <tr>\n",
       "      <th>0</th>\n",
       "      <td>56.601449</td>\n",
       "      <td>0.826087</td>\n",
       "      <td>0.478261</td>\n",
       "      <td>134.398551</td>\n",
       "      <td>251.086957</td>\n",
       "      <td>0.159420</td>\n",
       "      <td>0.449275</td>\n",
       "      <td>139.101449</td>\n",
       "      <td>0.550725</td>\n",
       "      <td>1.585507</td>\n",
       "      <td>1.166667</td>\n",
       "      <td>1.166667</td>\n",
       "      <td>2.543478</td>\n",
       "    </tr>\n",
       "    <tr>\n",
       "      <th>1</th>\n",
       "      <td>52.585366</td>\n",
       "      <td>0.560976</td>\n",
       "      <td>1.371951</td>\n",
       "      <td>129.250000</td>\n",
       "      <td>242.640244</td>\n",
       "      <td>0.140244</td>\n",
       "      <td>0.591463</td>\n",
       "      <td>158.378049</td>\n",
       "      <td>0.140244</td>\n",
       "      <td>0.586585</td>\n",
       "      <td>1.591463</td>\n",
       "      <td>0.341463</td>\n",
       "      <td>2.121951</td>\n",
       "    </tr>\n",
       "  </tbody>\n",
       "</table>\n",
       "</div>"
      ],
      "text/plain": [
       "              age       sex        cp    trestbps        chol       fbs  \\\n",
       "target                                                                    \n",
       "0       56.601449  0.826087  0.478261  134.398551  251.086957  0.159420   \n",
       "1       52.585366  0.560976  1.371951  129.250000  242.640244  0.140244   \n",
       "\n",
       "         restecg     thalach     exang   oldpeak     slope        ca      thal  \n",
       "target                                                                          \n",
       "0       0.449275  139.101449  0.550725  1.585507  1.166667  1.166667  2.543478  \n",
       "1       0.591463  158.378049  0.140244  0.586585  1.591463  0.341463  2.121951  "
      ]
     },
     "execution_count": 17,
     "metadata": {},
     "output_type": "execute_result"
    }
   ],
   "source": [
    "heart.groupby('target').mean()"
   ]
  },
  {
   "cell_type": "markdown",
   "metadata": {},
   "source": [
    "# mendapatkan usia dan gender yang paling berpotensi terdampak penyakit jantung"
   ]
  },
  {
   "cell_type": "code",
   "execution_count": 18,
   "metadata": {},
   "outputs": [
    {
     "data": {
      "image/png": "[encoded data removed]",
      "text/plain": [
       "<Figure size 1152x576 with 1 Axes>"
      ]
     },
     "metadata": {},
     "output_type": "display_data"
    }
   ],
   "source": [
    "plt.figure(figsize = (16, 8))\n",
    "\n",
    "sns.boxplot(heart['age'])\n",
    "plt.title('Age', size=20)\n",
    "plt.show()"
   ]
  },
  {
   "cell_type": "markdown",
   "metadata": {},
   "source": [
    "Berdasarkan data diatas, dapat dilihat bahwa rentang usia untuk data heart ini yaitu dari usia 29 sampai 77"
   ]
  },
  {
   "cell_type": "code",
   "execution_count": 20,
   "metadata": {},
   "outputs": [
    {
     "data": {
      "image/png": "[encoded data removed]",
      "text/plain": [
       "<Figure size 1440x1440 with 42 Axes>"
      ]
     },
     "metadata": {},
     "output_type": "display_data"
    }
   ],
   "source": [
    "heart.hist('target', by='age',figsize = (20, 20),color='g');"
   ]
  },
  {
   "cell_type": "markdown",
   "metadata": {},
   "source": [
    "### Grafik diatas menunjukan persebaran data penderita penyakit jantung berdasarkan usianya . Bisa dilihat bahwa usia 40-50an cenderung positif menderita penyakit jantung. Lalu, ternyata usia muda pun tidak menutup kemungkinan orang tersebut tidak terkena jantung. Untuk selanjutnya akan dilakukan analisis lebih dalam terkait hal ini."
   ]
  },
  {
   "cell_type": "code",
   "execution_count": 21,
   "metadata": {},
   "outputs": [
    {
     "data": {
      "image/png": "[encoded data removed]",
      "text/plain": [
       "<Figure size 1440x720 with 1 Axes>"
      ]
     },
     "metadata": {},
     "output_type": "display_data"
    }
   ],
   "source": [
    "pd.crosstab(heart.age,heart.target).plot(kind=\"bar\",figsize=(20,10))\n",
    "plt.title('Heart vs Age')\n",
    "plt.xlabel('Age')\n",
    "plt.ylabel('Total')\n",
    "plt.savefig('heartvsage.png')\n",
    "plt.show()"
   ]
  },
  {
   "cell_type": "markdown",
   "metadata": {},
   "source": [
    "### Berdasarkan angka diatas ditemukan bahwa, umur pasien yang paling banyak berpotensi terkena penyakit jantung adalah 51, 54,41, dan 44. Sedangkan untuk yang paling teridentifikasi tidak berpotensi adalah di umur 58,57,60, dan 59. Angka target tersebut mulai tidak stagnan setelah menginjak umur 40 tahun hingga 67"
   ]
  },
  {
   "cell_type": "code",
   "execution_count": 22,
   "metadata": {},
   "outputs": [
    {
     "data": {
      "text/html": [
       "<div>\n",
       "<style scoped>\n",
       "    .dataframe tbody tr th:only-of-type {\n",
       "        vertical-align: middle;\n",
       "    }\n",
       "\n",
       "    .dataframe tbody tr th {\n",
       "        vertical-align: top;\n",
       "    }\n",
       "\n",
       "    .dataframe thead th {\n",
       "        text-align: right;\n",
       "    }\n",
       "</style>\n",
       "<table border=\"1\" class=\"dataframe\">\n",
       "  <thead>\n",
       "    <tr style=\"text-align: right;\">\n",
       "      <th></th>\n",
       "      <th>age</th>\n",
       "      <th>29</th>\n",
       "      <th>34</th>\n",
       "      <th>35</th>\n",
       "      <th>37</th>\n",
       "      <th>38</th>\n",
       "      <th>39</th>\n",
       "      <th>40</th>\n",
       "      <th>41</th>\n",
       "      <th>42</th>\n",
       "      <th>43</th>\n",
       "      <th>44</th>\n",
       "      <th>45</th>\n",
       "      <th>46</th>\n",
       "      <th>47</th>\n",
       "      <th>48</th>\n",
       "      <th>49</th>\n",
       "      <th>50</th>\n",
       "      <th>51</th>\n",
       "      <th>52</th>\n",
       "      <th>53</th>\n",
       "      <th>54</th>\n",
       "      <th>55</th>\n",
       "      <th>56</th>\n",
       "      <th>57</th>\n",
       "      <th>58</th>\n",
       "      <th>59</th>\n",
       "      <th>60</th>\n",
       "      <th>61</th>\n",
       "      <th>62</th>\n",
       "      <th>63</th>\n",
       "      <th>64</th>\n",
       "      <th>65</th>\n",
       "      <th>66</th>\n",
       "      <th>67</th>\n",
       "      <th>68</th>\n",
       "      <th>69</th>\n",
       "      <th>70</th>\n",
       "      <th>71</th>\n",
       "      <th>74</th>\n",
       "      <th>76</th>\n",
       "      <th>77</th>\n",
       "    </tr>\n",
       "  </thead>\n",
       "  <tbody>\n",
       "    <tr>\n",
       "      <th>min</th>\n",
       "      <th>target</th>\n",
       "      <td>1.0</td>\n",
       "      <td>1.0</td>\n",
       "      <td>0.0</td>\n",
       "      <td>1.0</td>\n",
       "      <td>0.0</td>\n",
       "      <td>0.00</td>\n",
       "      <td>0.000000</td>\n",
       "      <td>0.0</td>\n",
       "      <td>0.000</td>\n",
       "      <td>0.000</td>\n",
       "      <td>0.000000</td>\n",
       "      <td>0.00</td>\n",
       "      <td>0.000000</td>\n",
       "      <td>0.0</td>\n",
       "      <td>0.000000</td>\n",
       "      <td>0.0</td>\n",
       "      <td>0.000000</td>\n",
       "      <td>0.00</td>\n",
       "      <td>0.000000</td>\n",
       "      <td>0.00</td>\n",
       "      <td>0.000</td>\n",
       "      <td>0.000</td>\n",
       "      <td>0.000000</td>\n",
       "      <td>0.000000</td>\n",
       "      <td>0.000000</td>\n",
       "      <td>0.000000</td>\n",
       "      <td>0.000000</td>\n",
       "      <td>0.000</td>\n",
       "      <td>0.000000</td>\n",
       "      <td>0.000000</td>\n",
       "      <td>0.0</td>\n",
       "      <td>0.0</td>\n",
       "      <td>0.000000</td>\n",
       "      <td>0.000000</td>\n",
       "      <td>0.0</td>\n",
       "      <td>0.000000</td>\n",
       "      <td>0.00</td>\n",
       "      <td>1.0</td>\n",
       "      <td>1.0</td>\n",
       "      <td>1.0</td>\n",
       "      <td>0.0</td>\n",
       "    </tr>\n",
       "    <tr>\n",
       "      <th>max</th>\n",
       "      <th>target</th>\n",
       "      <td>1.0</td>\n",
       "      <td>1.0</td>\n",
       "      <td>1.0</td>\n",
       "      <td>1.0</td>\n",
       "      <td>1.0</td>\n",
       "      <td>1.00</td>\n",
       "      <td>1.000000</td>\n",
       "      <td>1.0</td>\n",
       "      <td>1.000</td>\n",
       "      <td>1.000</td>\n",
       "      <td>1.000000</td>\n",
       "      <td>1.00</td>\n",
       "      <td>1.000000</td>\n",
       "      <td>1.0</td>\n",
       "      <td>1.000000</td>\n",
       "      <td>1.0</td>\n",
       "      <td>1.000000</td>\n",
       "      <td>1.00</td>\n",
       "      <td>1.000000</td>\n",
       "      <td>1.00</td>\n",
       "      <td>1.000</td>\n",
       "      <td>1.000</td>\n",
       "      <td>1.000000</td>\n",
       "      <td>1.000000</td>\n",
       "      <td>1.000000</td>\n",
       "      <td>1.000000</td>\n",
       "      <td>1.000000</td>\n",
       "      <td>1.000</td>\n",
       "      <td>1.000000</td>\n",
       "      <td>1.000000</td>\n",
       "      <td>1.0</td>\n",
       "      <td>1.0</td>\n",
       "      <td>1.000000</td>\n",
       "      <td>1.000000</td>\n",
       "      <td>1.0</td>\n",
       "      <td>1.000000</td>\n",
       "      <td>1.00</td>\n",
       "      <td>1.0</td>\n",
       "      <td>1.0</td>\n",
       "      <td>1.0</td>\n",
       "      <td>0.0</td>\n",
       "    </tr>\n",
       "    <tr>\n",
       "      <th>mean</th>\n",
       "      <th>target</th>\n",
       "      <td>1.0</td>\n",
       "      <td>1.0</td>\n",
       "      <td>0.5</td>\n",
       "      <td>1.0</td>\n",
       "      <td>0.5</td>\n",
       "      <td>0.75</td>\n",
       "      <td>0.333333</td>\n",
       "      <td>0.9</td>\n",
       "      <td>0.875</td>\n",
       "      <td>0.625</td>\n",
       "      <td>0.727273</td>\n",
       "      <td>0.75</td>\n",
       "      <td>0.571429</td>\n",
       "      <td>0.6</td>\n",
       "      <td>0.571429</td>\n",
       "      <td>0.6</td>\n",
       "      <td>0.571429</td>\n",
       "      <td>0.75</td>\n",
       "      <td>0.692308</td>\n",
       "      <td>0.75</td>\n",
       "      <td>0.625</td>\n",
       "      <td>0.375</td>\n",
       "      <td>0.454545</td>\n",
       "      <td>0.411765</td>\n",
       "      <td>0.368421</td>\n",
       "      <td>0.357143</td>\n",
       "      <td>0.272727</td>\n",
       "      <td>0.125</td>\n",
       "      <td>0.363636</td>\n",
       "      <td>0.333333</td>\n",
       "      <td>0.6</td>\n",
       "      <td>0.5</td>\n",
       "      <td>0.571429</td>\n",
       "      <td>0.333333</td>\n",
       "      <td>0.5</td>\n",
       "      <td>0.666667</td>\n",
       "      <td>0.25</td>\n",
       "      <td>1.0</td>\n",
       "      <td>1.0</td>\n",
       "      <td>1.0</td>\n",
       "      <td>0.0</td>\n",
       "    </tr>\n",
       "    <tr>\n",
       "      <th>count</th>\n",
       "      <th>target</th>\n",
       "      <td>1.0</td>\n",
       "      <td>2.0</td>\n",
       "      <td>4.0</td>\n",
       "      <td>2.0</td>\n",
       "      <td>2.0</td>\n",
       "      <td>4.00</td>\n",
       "      <td>3.000000</td>\n",
       "      <td>10.0</td>\n",
       "      <td>8.000</td>\n",
       "      <td>8.000</td>\n",
       "      <td>11.000000</td>\n",
       "      <td>8.00</td>\n",
       "      <td>7.000000</td>\n",
       "      <td>5.0</td>\n",
       "      <td>7.000000</td>\n",
       "      <td>5.0</td>\n",
       "      <td>7.000000</td>\n",
       "      <td>12.00</td>\n",
       "      <td>13.000000</td>\n",
       "      <td>8.00</td>\n",
       "      <td>16.000</td>\n",
       "      <td>8.000</td>\n",
       "      <td>11.000000</td>\n",
       "      <td>17.000000</td>\n",
       "      <td>19.000000</td>\n",
       "      <td>14.000000</td>\n",
       "      <td>11.000000</td>\n",
       "      <td>8.000</td>\n",
       "      <td>11.000000</td>\n",
       "      <td>9.000000</td>\n",
       "      <td>10.0</td>\n",
       "      <td>8.0</td>\n",
       "      <td>7.000000</td>\n",
       "      <td>9.000000</td>\n",
       "      <td>4.0</td>\n",
       "      <td>3.000000</td>\n",
       "      <td>4.00</td>\n",
       "      <td>3.0</td>\n",
       "      <td>1.0</td>\n",
       "      <td>1.0</td>\n",
       "      <td>1.0</td>\n",
       "    </tr>\n",
       "  </tbody>\n",
       "</table>\n",
       "</div>"
      ],
      "text/plain": [
       "age            29   34   35   37   38    39        40    41     42     43  \\\n",
       "min   target  1.0  1.0  0.0  1.0  0.0  0.00  0.000000   0.0  0.000  0.000   \n",
       "max   target  1.0  1.0  1.0  1.0  1.0  1.00  1.000000   1.0  1.000  1.000   \n",
       "mean  target  1.0  1.0  0.5  1.0  0.5  0.75  0.333333   0.9  0.875  0.625   \n",
       "count target  1.0  2.0  4.0  2.0  2.0  4.00  3.000000  10.0  8.000  8.000   \n",
       "\n",
       "age                  44    45        46   47        48   49        50     51  \\\n",
       "min   target   0.000000  0.00  0.000000  0.0  0.000000  0.0  0.000000   0.00   \n",
       "max   target   1.000000  1.00  1.000000  1.0  1.000000  1.0  1.000000   1.00   \n",
       "mean  target   0.727273  0.75  0.571429  0.6  0.571429  0.6  0.571429   0.75   \n",
       "count target  11.000000  8.00  7.000000  5.0  7.000000  5.0  7.000000  12.00   \n",
       "\n",
       "age                  52    53      54     55         56         57         58  \\\n",
       "min   target   0.000000  0.00   0.000  0.000   0.000000   0.000000   0.000000   \n",
       "max   target   1.000000  1.00   1.000  1.000   1.000000   1.000000   1.000000   \n",
       "mean  target   0.692308  0.75   0.625  0.375   0.454545   0.411765   0.368421   \n",
       "count target  13.000000  8.00  16.000  8.000  11.000000  17.000000  19.000000   \n",
       "\n",
       "age                  59         60     61         62        63    64   65  \\\n",
       "min   target   0.000000   0.000000  0.000   0.000000  0.000000   0.0  0.0   \n",
       "max   target   1.000000   1.000000  1.000   1.000000  1.000000   1.0  1.0   \n",
       "mean  target   0.357143   0.272727  0.125   0.363636  0.333333   0.6  0.5   \n",
       "count target  14.000000  11.000000  8.000  11.000000  9.000000  10.0  8.0   \n",
       "\n",
       "age                 66        67   68        69    70   71   74   76   77  \n",
       "min   target  0.000000  0.000000  0.0  0.000000  0.00  1.0  1.0  1.0  0.0  \n",
       "max   target  1.000000  1.000000  1.0  1.000000  1.00  1.0  1.0  1.0  0.0  \n",
       "mean  target  0.571429  0.333333  0.5  0.666667  0.25  1.0  1.0  1.0  0.0  \n",
       "count target  7.000000  9.000000  4.0  3.000000  4.00  3.0  1.0  1.0  1.0  "
      ]
     },
     "execution_count": 22,
     "metadata": {},
     "output_type": "execute_result"
    }
   ],
   "source": [
    "heart.pivot_table(index='age', values='target', aggfunc=['min','max','mean','count']).T"
   ]
  },
  {
   "cell_type": "code",
   "execution_count": 23,
   "metadata": {},
   "outputs": [
    {
     "data": {
      "text/html": [
       "<div>\n",
       "<style scoped>\n",
       "    .dataframe tbody tr th:only-of-type {\n",
       "        vertical-align: middle;\n",
       "    }\n",
       "\n",
       "    .dataframe tbody tr th {\n",
       "        vertical-align: top;\n",
       "    }\n",
       "\n",
       "    .dataframe thead th {\n",
       "        text-align: right;\n",
       "    }\n",
       "</style>\n",
       "<table border=\"1\" class=\"dataframe\">\n",
       "  <thead>\n",
       "    <tr style=\"text-align: right;\">\n",
       "      <th></th>\n",
       "      <th>59</th>\n",
       "      <th>58</th>\n",
       "      <th>60</th>\n",
       "      <th>53</th>\n",
       "      <th>55</th>\n",
       "      <th>45</th>\n",
       "      <th>52</th>\n",
       "      <th>57</th>\n",
       "      <th>61</th>\n",
       "      <th>65</th>\n",
       "    </tr>\n",
       "  </thead>\n",
       "  <tbody>\n",
       "    <tr>\n",
       "      <th>sex</th>\n",
       "      <td>1</td>\n",
       "      <td>1</td>\n",
       "      <td>1</td>\n",
       "      <td>1</td>\n",
       "      <td>1</td>\n",
       "      <td>1</td>\n",
       "      <td>1</td>\n",
       "      <td>1</td>\n",
       "      <td>1</td>\n",
       "      <td>1</td>\n",
       "    </tr>\n",
       "    <tr>\n",
       "      <th>age</th>\n",
       "      <td>58</td>\n",
       "      <td>57</td>\n",
       "      <td>59</td>\n",
       "      <td>52</td>\n",
       "      <td>54</td>\n",
       "      <td>44</td>\n",
       "      <td>51</td>\n",
       "      <td>56</td>\n",
       "      <td>60</td>\n",
       "      <td>64</td>\n",
       "    </tr>\n",
       "    <tr>\n",
       "      <th>target</th>\n",
       "      <td>13</td>\n",
       "      <td>13</td>\n",
       "      <td>13</td>\n",
       "      <td>12</td>\n",
       "      <td>11</td>\n",
       "      <td>9</td>\n",
       "      <td>8</td>\n",
       "      <td>8</td>\n",
       "      <td>7</td>\n",
       "      <td>7</td>\n",
       "    </tr>\n",
       "  </tbody>\n",
       "</table>\n",
       "</div>"
      ],
      "text/plain": [
       "        59  58  60  53  55  45  52  57  61  65\n",
       "sex      1   1   1   1   1   1   1   1   1   1\n",
       "age     58  57  59  52  54  44  51  56  60  64\n",
       "target  13  13  13  12  11   9   8   8   7   7"
      ]
     },
     "execution_count": 23,
     "metadata": {},
     "output_type": "execute_result"
    }
   ],
   "source": [
    "sex= heart.groupby(['sex','age'])['target'].count().reset_index().sort_values(by='target',ascending=False)\n",
    "sex.head(10).T"
   ]
  },
  {
   "cell_type": "markdown",
   "metadata": {},
   "source": [
    "### Dari data diatas, apabila kita bandingkan dengan total datanya ternyata umur 54,51,41,44 memiliki total pengidap mencapai 16+12+10+11= 49 pasien. Untuk selanjutnya, akan telaah menurut gender/sex dari pasien. Lalu jumlah serangan jantung yang telah terjadi untuk usia tertentu dalam kasus pria dan wanita terlihat di kolom diatas. Berdasarkan urutan 10 serangan jantung, pria ebih banyak mengidap serangan jantung."
   ]
  },
  {
   "cell_type": "code",
   "execution_count": 24,
   "metadata": {},
   "outputs": [
    {
     "data": {
      "image/png": "[encoded data removed]",
      "text/plain": [
       "<Figure size 1440x720 with 1 Axes>"
      ]
     },
     "metadata": {},
     "output_type": "display_data"
    }
   ],
   "source": [
    "pd.crosstab(heart.sex,heart.target).plot(kind=\"bar\",figsize=(20,10))\n",
    "plt.title('Target vs Gender')\n",
    "plt.xlabel('Gender')\n",
    "plt.ylabel('Total')\n",
    "plt.savefig('heartvsgender.png')\n",
    "plt.show()"
   ]
  },
  {
   "cell_type": "code",
   "execution_count": 25,
   "metadata": {},
   "outputs": [
    {
     "data": {
      "text/html": [
       "<div>\n",
       "<style scoped>\n",
       "    .dataframe tbody tr th:only-of-type {\n",
       "        vertical-align: middle;\n",
       "    }\n",
       "\n",
       "    .dataframe tbody tr th {\n",
       "        vertical-align: top;\n",
       "    }\n",
       "\n",
       "    .dataframe thead th {\n",
       "        text-align: right;\n",
       "    }\n",
       "</style>\n",
       "<table border=\"1\" class=\"dataframe\">\n",
       "  <thead>\n",
       "    <tr style=\"text-align: right;\">\n",
       "      <th></th>\n",
       "      <th>sex</th>\n",
       "      <th>0</th>\n",
       "      <th>1</th>\n",
       "    </tr>\n",
       "  </thead>\n",
       "  <tbody>\n",
       "    <tr>\n",
       "      <th>min</th>\n",
       "      <th>target</th>\n",
       "      <td>0.00</td>\n",
       "      <td>0.000000</td>\n",
       "    </tr>\n",
       "    <tr>\n",
       "      <th>max</th>\n",
       "      <th>target</th>\n",
       "      <td>1.00</td>\n",
       "      <td>1.000000</td>\n",
       "    </tr>\n",
       "    <tr>\n",
       "      <th>mean</th>\n",
       "      <th>target</th>\n",
       "      <td>0.75</td>\n",
       "      <td>0.446602</td>\n",
       "    </tr>\n",
       "    <tr>\n",
       "      <th>count</th>\n",
       "      <th>target</th>\n",
       "      <td>96.00</td>\n",
       "      <td>206.000000</td>\n",
       "    </tr>\n",
       "  </tbody>\n",
       "</table>\n",
       "</div>"
      ],
      "text/plain": [
       "sex               0           1\n",
       "min   target   0.00    0.000000\n",
       "max   target   1.00    1.000000\n",
       "mean  target   0.75    0.446602\n",
       "count target  96.00  206.000000"
      ]
     },
     "execution_count": 25,
     "metadata": {},
     "output_type": "execute_result"
    }
   ],
   "source": [
    "heart.pivot_table(index='sex', values='target', aggfunc=['min','max','mean','count']).T"
   ]
  },
  {
   "cell_type": "markdown",
   "metadata": {},
   "source": [
    "### Berdasarkan data diatas, dapat kita simpulkan bahwa laki-laki memiliki kecenderungan untuk mengidap jantung lebih besar dibandingkan wanita dengan total 206 jiwa sedangkan wanita 96 jiwa."
   ]
  },
  {
   "cell_type": "code",
   "execution_count": 26,
   "metadata": {},
   "outputs": [
    {
     "name": "stdout",
     "output_type": "stream",
     "text": [
      "Persentase pasien wanita: 31.788079470198678%\n",
      "Persentase pasien pria: 68.21192052980133%\n"
     ]
    }
   ],
   "source": [
    "wanita = len(heart[heart.sex == 0])\n",
    "pria = len(heart[heart.sex == 1])\n",
    "print(\"Persentase pasien wanita: {}%\".format((wanita / (len(heart.sex))*100)))\n",
    "print(\"Persentase pasien pria: {}%\".format((pria / (len(heart.sex))*100)))"
   ]
  },
  {
   "cell_type": "markdown",
   "metadata": {},
   "source": [
    "### mendapatkan faktor-faktor penentu yang mengidentifikasi penyakit jantung"
   ]
  },
  {
   "cell_type": "markdown",
   "metadata": {},
   "source": [
    "CP"
   ]
  },
  {
   "cell_type": "code",
   "execution_count": 27,
   "metadata": {},
   "outputs": [
    {
     "data": {
      "image/png": "[encoded data removed]",
      "text/plain": [
       "<Figure size 1440x720 with 1 Axes>"
      ]
     },
     "metadata": {},
     "output_type": "display_data"
    }
   ],
   "source": [
    "pd.crosstab(heart.cp,heart.target).plot(kind=\"bar\",figsize=(20,10))\n",
    "plt.title('Target vs Chest Pain Type')\n",
    "plt.xlabel('Chest Pain')\n",
    "plt.ylabel('Total')\n",
    "plt.savefig('heartvschest.png')\n",
    "plt.show()"
   ]
  },
  {
   "cell_type": "code",
   "execution_count": 116,
   "metadata": {},
   "outputs": [
    {
     "data": {
      "text/html": [
       "<div>\n",
       "<style scoped>\n",
       "    .dataframe tbody tr th:only-of-type {\n",
       "        vertical-align: middle;\n",
       "    }\n",
       "\n",
       "    .dataframe tbody tr th {\n",
       "        vertical-align: top;\n",
       "    }\n",
       "\n",
       "    .dataframe thead tr th {\n",
       "        text-align: left;\n",
       "    }\n",
       "\n",
       "    .dataframe thead tr:last-of-type th {\n",
       "        text-align: right;\n",
       "    }\n",
       "</style>\n",
       "<table border=\"1\" class=\"dataframe\">\n",
       "  <thead>\n",
       "    <tr>\n",
       "      <th></th>\n",
       "      <th>min</th>\n",
       "      <th>max</th>\n",
       "      <th>mean</th>\n",
       "      <th>count</th>\n",
       "    </tr>\n",
       "    <tr>\n",
       "      <th></th>\n",
       "      <th>target</th>\n",
       "      <th>target</th>\n",
       "      <th>target</th>\n",
       "      <th>target</th>\n",
       "    </tr>\n",
       "    <tr>\n",
       "      <th>cp</th>\n",
       "      <th></th>\n",
       "      <th></th>\n",
       "      <th></th>\n",
       "      <th></th>\n",
       "    </tr>\n",
       "  </thead>\n",
       "  <tbody>\n",
       "    <tr>\n",
       "      <th>0</th>\n",
       "      <td>0</td>\n",
       "      <td>1</td>\n",
       "      <td>0.272727</td>\n",
       "      <td>143</td>\n",
       "    </tr>\n",
       "    <tr>\n",
       "      <th>1</th>\n",
       "      <td>0</td>\n",
       "      <td>1</td>\n",
       "      <td>0.820000</td>\n",
       "      <td>50</td>\n",
       "    </tr>\n",
       "    <tr>\n",
       "      <th>2</th>\n",
       "      <td>0</td>\n",
       "      <td>1</td>\n",
       "      <td>0.790698</td>\n",
       "      <td>86</td>\n",
       "    </tr>\n",
       "    <tr>\n",
       "      <th>3</th>\n",
       "      <td>0</td>\n",
       "      <td>1</td>\n",
       "      <td>0.695652</td>\n",
       "      <td>23</td>\n",
       "    </tr>\n",
       "  </tbody>\n",
       "</table>\n",
       "</div>"
      ],
      "text/plain": [
       "      min    max      mean  count\n",
       "   target target    target target\n",
       "cp                               \n",
       "0       0      1  0.272727    143\n",
       "1       0      1  0.820000     50\n",
       "2       0      1  0.790698     86\n",
       "3       0      1  0.695652     23"
      ]
     },
     "execution_count": 116,
     "metadata": {},
     "output_type": "execute_result"
    }
   ],
   "source": [
    "heart.pivot_table(index='cp', values='target', aggfunc=['min','max','mean','count'])"
   ]
  },
  {
   "cell_type": "code",
   "execution_count": 177,
   "metadata": {},
   "outputs": [
    {
     "data": {
      "text/html": [
       "<div>\n",
       "<style scoped>\n",
       "    .dataframe tbody tr th:only-of-type {\n",
       "        vertical-align: middle;\n",
       "    }\n",
       "\n",
       "    .dataframe tbody tr th {\n",
       "        vertical-align: top;\n",
       "    }\n",
       "\n",
       "    .dataframe thead th {\n",
       "        text-align: right;\n",
       "    }\n",
       "</style>\n",
       "<table border=\"1\" class=\"dataframe\">\n",
       "  <thead>\n",
       "    <tr style=\"text-align: right;\">\n",
       "      <th></th>\n",
       "      <th>4</th>\n",
       "      <th>6</th>\n",
       "      <th>0</th>\n",
       "      <th>2</th>\n",
       "      <th>5</th>\n",
       "      <th>7</th>\n",
       "      <th>1</th>\n",
       "      <th>3</th>\n",
       "    </tr>\n",
       "  </thead>\n",
       "  <tbody>\n",
       "    <tr>\n",
       "      <th>sex</th>\n",
       "      <td>1</td>\n",
       "      <td>1</td>\n",
       "      <td>0</td>\n",
       "      <td>0</td>\n",
       "      <td>1</td>\n",
       "      <td>1</td>\n",
       "      <td>0</td>\n",
       "      <td>0</td>\n",
       "    </tr>\n",
       "    <tr>\n",
       "      <th>cp</th>\n",
       "      <td>0</td>\n",
       "      <td>2</td>\n",
       "      <td>0</td>\n",
       "      <td>2</td>\n",
       "      <td>1</td>\n",
       "      <td>3</td>\n",
       "      <td>1</td>\n",
       "      <td>3</td>\n",
       "    </tr>\n",
       "    <tr>\n",
       "      <th>target</th>\n",
       "      <td>104</td>\n",
       "      <td>51</td>\n",
       "      <td>39</td>\n",
       "      <td>35</td>\n",
       "      <td>32</td>\n",
       "      <td>19</td>\n",
       "      <td>18</td>\n",
       "      <td>4</td>\n",
       "    </tr>\n",
       "  </tbody>\n",
       "</table>\n",
       "</div>"
      ],
      "text/plain": [
       "          4   6   0   2   5   7   1  3\n",
       "sex       1   1   0   0   1   1   0  0\n",
       "cp        0   2   0   2   1   3   1  3\n",
       "target  104  51  39  35  32  19  18  4"
      ]
     },
     "execution_count": 177,
     "metadata": {},
     "output_type": "execute_result"
    }
   ],
   "source": [
    "cp= heart.groupby(['sex','cp'])['target'].count().reset_index().sort_values(by='target',ascending=False)\n",
    "cp.head(10).T"
   ]
  },
  {
   "cell_type": "markdown",
   "metadata": {},
   "source": [
    "## Berdasakan data diatas dapat dilihat bahwa, Type Chest Pain 2 atau nonanginal memiliki kecenderungan untuk mengidap jantung. Lalu untuk tipe 0 atau typical memiliki angka tidak terdeteksi jantung tinggi. Pria yang memiliki nyeri dada tipe 0 menderita serangan jantung paling tinggi dan tipe 2 tertinggi kedua. Kecenderungan ini sama untuk wanita."
   ]
  },
  {
   "cell_type": "markdown",
   "metadata": {},
   "source": [
    "TRESBPS"
   ]
  },
  {
   "cell_type": "code",
   "execution_count": 28,
   "metadata": {},
   "outputs": [
    {
     "data": {
      "image/png": "[encoded data removed]",
      "text/plain": [
       "<Figure size 864x648 with 1 Axes>"
      ]
     },
     "metadata": {},
     "output_type": "display_data"
    }
   ],
   "source": [
    "plt.rcParams['figure.figsize'] = (12, 9)\n",
    "sns.boxplot(heart['target'], heart['trestbps'])\n",
    "plt.title('tresbps vs target', fontsize = 20)\n",
    "plt.savefig('heartvstresbps.png')\n",
    "plt.show()"
   ]
  },
  {
   "cell_type": "code",
   "execution_count": 29,
   "metadata": {},
   "outputs": [
    {
     "data": {
      "image/png": "[encoded data removed]",
      "text/plain": [
       "<Figure size 864x648 with 1 Axes>"
      ]
     },
     "metadata": {},
     "output_type": "display_data"
    }
   ],
   "source": [
    "sns.boxplot(x = heart['target'], y = heart['trestbps'], hue = heart['sex'])\n",
    "plt.title('Trestbps vs Target with Sex', fontsize = 20, fontweight = 30)\n",
    "plt.savefig('heartvstresbpssex.png')\n",
    "plt.show()"
   ]
  },
  {
   "cell_type": "code",
   "execution_count": 179,
   "metadata": {},
   "outputs": [
    {
     "data": {
      "text/html": [
       "<div>\n",
       "<style scoped>\n",
       "    .dataframe tbody tr th:only-of-type {\n",
       "        vertical-align: middle;\n",
       "    }\n",
       "\n",
       "    .dataframe tbody tr th {\n",
       "        vertical-align: top;\n",
       "    }\n",
       "\n",
       "    .dataframe thead th {\n",
       "        text-align: right;\n",
       "    }\n",
       "</style>\n",
       "<table border=\"1\" class=\"dataframe\">\n",
       "  <thead>\n",
       "    <tr style=\"text-align: right;\">\n",
       "      <th></th>\n",
       "      <th>46</th>\n",
       "      <th>54</th>\n",
       "      <th>60</th>\n",
       "      <th>40</th>\n",
       "      <th>15</th>\n",
       "      <th>50</th>\n",
       "      <th>21</th>\n",
       "      <th>66</th>\n",
       "      <th>10</th>\n",
       "      <th>52</th>\n",
       "    </tr>\n",
       "  </thead>\n",
       "  <tbody>\n",
       "    <tr>\n",
       "      <th>sex</th>\n",
       "      <td>1</td>\n",
       "      <td>1</td>\n",
       "      <td>1</td>\n",
       "      <td>1</td>\n",
       "      <td>0</td>\n",
       "      <td>1</td>\n",
       "      <td>0</td>\n",
       "      <td>1</td>\n",
       "      <td>0</td>\n",
       "      <td>1</td>\n",
       "    </tr>\n",
       "    <tr>\n",
       "      <th>trestbps</th>\n",
       "      <td>120</td>\n",
       "      <td>130</td>\n",
       "      <td>140</td>\n",
       "      <td>110</td>\n",
       "      <td>130</td>\n",
       "      <td>125</td>\n",
       "      <td>140</td>\n",
       "      <td>150</td>\n",
       "      <td>120</td>\n",
       "      <td>128</td>\n",
       "    </tr>\n",
       "    <tr>\n",
       "      <th>target</th>\n",
       "      <td>27</td>\n",
       "      <td>24</td>\n",
       "      <td>22</td>\n",
       "      <td>16</td>\n",
       "      <td>12</td>\n",
       "      <td>11</td>\n",
       "      <td>10</td>\n",
       "      <td>10</td>\n",
       "      <td>10</td>\n",
       "      <td>9</td>\n",
       "    </tr>\n",
       "  </tbody>\n",
       "</table>\n",
       "</div>"
      ],
      "text/plain": [
       "           46   54   60   40   15   50   21   66   10   52\n",
       "sex         1    1    1    1    0    1    0    1    0    1\n",
       "trestbps  120  130  140  110  130  125  140  150  120  128\n",
       "target     27   24   22   16   12   11   10   10   10    9"
      ]
     },
     "execution_count": 179,
     "metadata": {},
     "output_type": "execute_result"
    }
   ],
   "source": [
    "trestbps= heart.groupby(['sex','trestbps'])['target'].count().reset_index().sort_values(by='target',ascending=False)\n",
    "trestbps.head(10).T"
   ]
  },
  {
   "cell_type": "markdown",
   "metadata": {},
   "source": [
    "## Plot diatas menunjukkan bahwa perempuan memiliki tresbps lebih tinggi daripada pria dalam kasus tidak menderita penyakit jantung, sedangkan pria dan wanita memiliki hampir sama tresbps dalam kasus menderita penyakit jantung. Juga, dalam kasus menderita penyakit jantung, pasien memiliki tresbps sedikit lebih rendah dibandingkan dengan pasien yang tidak menderita penyakit jantung."
   ]
  },
  {
   "cell_type": "markdown",
   "metadata": {},
   "source": [
    "CHOL"
   ]
  },
  {
   "cell_type": "code",
   "execution_count": 32,
   "metadata": {},
   "outputs": [
    {
     "data": {
      "image/png": "[encoded data removed]",
      "text/plain": [
       "<Figure size 864x648 with 1 Axes>"
      ]
     },
     "metadata": {},
     "output_type": "display_data"
    }
   ],
   "source": [
    "plt.rcParams['figure.figsize'] = (12, 9)\n",
    "sns.boxplot(heart['target'], heart['chol'],hue = heart['sex'])\n",
    "plt.title('chol vs target', fontsize = 20)\n",
    "plt.savefig('heartvscholssex.png')\n",
    "plt.show()"
   ]
  },
  {
   "cell_type": "code",
   "execution_count": 182,
   "metadata": {},
   "outputs": [
    {
     "data": {
      "text/html": [
       "<div>\n",
       "<style scoped>\n",
       "    .dataframe tbody tr th:only-of-type {\n",
       "        vertical-align: middle;\n",
       "    }\n",
       "\n",
       "    .dataframe tbody tr th {\n",
       "        vertical-align: top;\n",
       "    }\n",
       "\n",
       "    .dataframe thead th {\n",
       "        text-align: right;\n",
       "    }\n",
       "</style>\n",
       "<table border=\"1\" class=\"dataframe\">\n",
       "  <thead>\n",
       "    <tr style=\"text-align: right;\">\n",
       "      <th></th>\n",
       "      <th>115</th>\n",
       "      <th>109</th>\n",
       "      <th>48</th>\n",
       "      <th>150</th>\n",
       "      <th>172</th>\n",
       "      <th>135</th>\n",
       "      <th>134</th>\n",
       "      <th>127</th>\n",
       "      <th>167</th>\n",
       "      <th>144</th>\n",
       "    </tr>\n",
       "  </thead>\n",
       "  <tbody>\n",
       "    <tr>\n",
       "      <th>sex</th>\n",
       "      <td>1</td>\n",
       "      <td>1</td>\n",
       "      <td>0</td>\n",
       "      <td>1</td>\n",
       "      <td>1</td>\n",
       "      <td>1</td>\n",
       "      <td>1</td>\n",
       "      <td>1</td>\n",
       "      <td>1</td>\n",
       "      <td>1</td>\n",
       "    </tr>\n",
       "    <tr>\n",
       "      <th>chol</th>\n",
       "      <td>212</td>\n",
       "      <td>204</td>\n",
       "      <td>269</td>\n",
       "      <td>254</td>\n",
       "      <td>282</td>\n",
       "      <td>234</td>\n",
       "      <td>233</td>\n",
       "      <td>226</td>\n",
       "      <td>274</td>\n",
       "      <td>246</td>\n",
       "    </tr>\n",
       "    <tr>\n",
       "      <th>target</th>\n",
       "      <td>5</td>\n",
       "      <td>4</td>\n",
       "      <td>4</td>\n",
       "      <td>4</td>\n",
       "      <td>4</td>\n",
       "      <td>4</td>\n",
       "      <td>4</td>\n",
       "      <td>3</td>\n",
       "      <td>3</td>\n",
       "      <td>3</td>\n",
       "    </tr>\n",
       "  </tbody>\n",
       "</table>\n",
       "</div>"
      ],
      "text/plain": [
       "        115  109  48   150  172  135  134  127  167  144\n",
       "sex       1    1    0    1    1    1    1    1    1    1\n",
       "chol    212  204  269  254  282  234  233  226  274  246\n",
       "target    5    4    4    4    4    4    4    3    3    3"
      ]
     },
     "execution_count": 182,
     "metadata": {},
     "output_type": "execute_result"
    }
   ],
   "source": [
    "chol= heart.groupby(['sex','chol'])['target'].count().reset_index().sort_values(by='target',ascending=False)\n",
    "chol.head(10).T"
   ]
  },
  {
   "cell_type": "markdown",
   "metadata": {},
   "source": [
    "## Berdasarkan plot di atas antara kolesterol tingkat dan target menunjukkan bahwa pasien cenderung menderita penyakit jantung jika memiliki tingkat kolesterol yang lebih tinggi dibandingkan dengan pasien dengan tidak menderita.Oleh karena itu, kita dapat menyimpulkan dari plot di atas bahwa tingkat kolesterol memainkan peran penting dalam menentukan penyakit jantung. Kita semua harus menjaga tingkat kolesterol kita dalam kontrol mungkin. Secara general dapat dilihat bahwa pria memiliki angka kolesterol lebih tinggi daripada wanita"
   ]
  },
  {
   "cell_type": "markdown",
   "metadata": {},
   "source": [
    "EXANG"
   ]
  },
  {
   "cell_type": "code",
   "execution_count": 33,
   "metadata": {},
   "outputs": [
    {
     "data": {
      "image/png": "[encoded data removed]",
      "text/plain": [
       "<Figure size 1440x720 with 1 Axes>"
      ]
     },
     "metadata": {},
     "output_type": "display_data"
    }
   ],
   "source": [
    "pd.crosstab(heart.exang,heart.target).plot(kind=\"bar\",figsize=(20,10))\n",
    "plt.title('Target vs Exercise')\n",
    "plt.xlabel('Exercise')\n",
    "plt.ylabel('Total')\n",
    "plt.savefig('heartvsexercise.png')\n",
    "plt.show()"
   ]
  },
  {
   "cell_type": "code",
   "execution_count": 186,
   "metadata": {},
   "outputs": [
    {
     "data": {
      "text/html": [
       "<div>\n",
       "<style scoped>\n",
       "    .dataframe tbody tr th:only-of-type {\n",
       "        vertical-align: middle;\n",
       "    }\n",
       "\n",
       "    .dataframe tbody tr th {\n",
       "        vertical-align: top;\n",
       "    }\n",
       "\n",
       "    .dataframe thead th {\n",
       "        text-align: right;\n",
       "    }\n",
       "</style>\n",
       "<table border=\"1\" class=\"dataframe\">\n",
       "  <thead>\n",
       "    <tr style=\"text-align: right;\">\n",
       "      <th></th>\n",
       "      <th>2</th>\n",
       "      <th>3</th>\n",
       "      <th>0</th>\n",
       "      <th>1</th>\n",
       "    </tr>\n",
       "  </thead>\n",
       "  <tbody>\n",
       "    <tr>\n",
       "      <th>sex</th>\n",
       "      <td>1</td>\n",
       "      <td>1</td>\n",
       "      <td>0</td>\n",
       "      <td>0</td>\n",
       "    </tr>\n",
       "    <tr>\n",
       "      <th>exang</th>\n",
       "      <td>0</td>\n",
       "      <td>1</td>\n",
       "      <td>0</td>\n",
       "      <td>1</td>\n",
       "    </tr>\n",
       "    <tr>\n",
       "      <th>target</th>\n",
       "      <td>129</td>\n",
       "      <td>77</td>\n",
       "      <td>74</td>\n",
       "      <td>22</td>\n",
       "    </tr>\n",
       "  </tbody>\n",
       "</table>\n",
       "</div>"
      ],
      "text/plain": [
       "          2   3   0   1\n",
       "sex       1   1   0   0\n",
       "exang     0   1   0   1\n",
       "target  129  77  74  22"
      ]
     },
     "execution_count": 186,
     "metadata": {},
     "output_type": "execute_result"
    }
   ],
   "source": [
    "exang= heart.groupby(['sex','exang'])['target'].count().reset_index().sort_values(by='target',ascending=False)\n",
    "exang.head(10).T"
   ]
  },
  {
   "cell_type": "markdown",
   "metadata": {},
   "source": [
    "## plot di atas menunjukkan bahwa semakin kurang exercise maka semakin berpotensi untuk menderita serangan jantung. Terutama untuk pria"
   ]
  },
  {
   "cell_type": "markdown",
   "metadata": {},
   "source": [
    "OLDPEAK"
   ]
  },
  {
   "cell_type": "code",
   "execution_count": 34,
   "metadata": {},
   "outputs": [
    {
     "data": {
      "image/png": "[encoded data removed]",
      "text/plain": [
       "<Figure size 1440x720 with 1 Axes>"
      ]
     },
     "metadata": {},
     "output_type": "display_data"
    }
   ],
   "source": [
    "pd.crosstab(heart.oldpeak,heart.target).plot(kind=\"bar\",figsize=(20,10))\n",
    "plt.title('Target vs Depression')\n",
    "plt.xlabel('Depression')\n",
    "plt.ylabel('Total')\n",
    "plt.savefig('heartvsdepression.png')\n",
    "plt.show()"
   ]
  },
  {
   "cell_type": "code",
   "execution_count": 190,
   "metadata": {},
   "outputs": [
    {
     "data": {
      "text/html": [
       "<div>\n",
       "<style scoped>\n",
       "    .dataframe tbody tr th:only-of-type {\n",
       "        vertical-align: middle;\n",
       "    }\n",
       "\n",
       "    .dataframe tbody tr th {\n",
       "        vertical-align: top;\n",
       "    }\n",
       "\n",
       "    .dataframe thead th {\n",
       "        text-align: right;\n",
       "    }\n",
       "</style>\n",
       "<table border=\"1\" class=\"dataframe\">\n",
       "  <thead>\n",
       "    <tr style=\"text-align: right;\">\n",
       "      <th></th>\n",
       "      <th>27</th>\n",
       "      <th>0</th>\n",
       "      <th>37</th>\n",
       "      <th>34</th>\n",
       "      <th>36</th>\n",
       "      <th>41</th>\n",
       "      <th>38</th>\n",
       "      <th>33</th>\n",
       "      <th>43</th>\n",
       "      <th>40</th>\n",
       "    </tr>\n",
       "  </thead>\n",
       "  <tbody>\n",
       "    <tr>\n",
       "      <th>sex</th>\n",
       "      <td>1.0</td>\n",
       "      <td>0.0</td>\n",
       "      <td>1.0</td>\n",
       "      <td>1.0</td>\n",
       "      <td>1.0</td>\n",
       "      <td>1.0</td>\n",
       "      <td>1.0</td>\n",
       "      <td>1.0</td>\n",
       "      <td>1.0</td>\n",
       "      <td>1.0</td>\n",
       "    </tr>\n",
       "    <tr>\n",
       "      <th>oldpeak</th>\n",
       "      <td>0.0</td>\n",
       "      <td>0.0</td>\n",
       "      <td>1.2</td>\n",
       "      <td>0.8</td>\n",
       "      <td>1.0</td>\n",
       "      <td>1.8</td>\n",
       "      <td>1.4</td>\n",
       "      <td>0.6</td>\n",
       "      <td>2.0</td>\n",
       "      <td>1.6</td>\n",
       "    </tr>\n",
       "    <tr>\n",
       "      <th>target</th>\n",
       "      <td>63.0</td>\n",
       "      <td>35.0</td>\n",
       "      <td>13.0</td>\n",
       "      <td>10.0</td>\n",
       "      <td>9.0</td>\n",
       "      <td>8.0</td>\n",
       "      <td>8.0</td>\n",
       "      <td>8.0</td>\n",
       "      <td>7.0</td>\n",
       "      <td>7.0</td>\n",
       "    </tr>\n",
       "  </tbody>\n",
       "</table>\n",
       "</div>"
      ],
      "text/plain": [
       "           27    0     37    34   36   41   38   33   43   40\n",
       "sex       1.0   0.0   1.0   1.0  1.0  1.0  1.0  1.0  1.0  1.0\n",
       "oldpeak   0.0   0.0   1.2   0.8  1.0  1.8  1.4  0.6  2.0  1.6\n",
       "target   63.0  35.0  13.0  10.0  9.0  8.0  8.0  8.0  7.0  7.0"
      ]
     },
     "execution_count": 190,
     "metadata": {},
     "output_type": "execute_result"
    }
   ],
   "source": [
    "oldpeak= heart.groupby(['sex','oldpeak'])['target'].count().reset_index().sort_values(by='target',ascending=False)\n",
    "oldpeak.head(10).T"
   ]
  },
  {
   "cell_type": "markdown",
   "metadata": {},
   "source": [
    "SLOPE"
   ]
  },
  {
   "cell_type": "code",
   "execution_count": 35,
   "metadata": {},
   "outputs": [
    {
     "data": {
      "image/png": "[encoded data removed]",
      "text/plain": [
       "<Figure size 1440x720 with 1 Axes>"
      ]
     },
     "metadata": {},
     "output_type": "display_data"
    }
   ],
   "source": [
    "pd.crosstab(heart.slope,heart.target).plot(kind=\"bar\",figsize=(20,10))\n",
    "plt.title('Target vs Slope')\n",
    "plt.xlabel('Slope')\n",
    "plt.ylabel('Total')\n",
    "plt.savefig('heartvsslope.png')\n",
    "plt.show()"
   ]
  },
  {
   "cell_type": "code",
   "execution_count": 195,
   "metadata": {},
   "outputs": [
    {
     "data": {
      "text/html": [
       "<div>\n",
       "<style scoped>\n",
       "    .dataframe tbody tr th:only-of-type {\n",
       "        vertical-align: middle;\n",
       "    }\n",
       "\n",
       "    .dataframe tbody tr th {\n",
       "        vertical-align: top;\n",
       "    }\n",
       "\n",
       "    .dataframe thead th {\n",
       "        text-align: right;\n",
       "    }\n",
       "</style>\n",
       "<table border=\"1\" class=\"dataframe\">\n",
       "  <thead>\n",
       "    <tr style=\"text-align: right;\">\n",
       "      <th></th>\n",
       "      <th>4</th>\n",
       "      <th>5</th>\n",
       "      <th>2</th>\n",
       "      <th>1</th>\n",
       "      <th>3</th>\n",
       "      <th>0</th>\n",
       "    </tr>\n",
       "  </thead>\n",
       "  <tbody>\n",
       "    <tr>\n",
       "      <th>sex</th>\n",
       "      <td>1</td>\n",
       "      <td>1</td>\n",
       "      <td>0</td>\n",
       "      <td>0</td>\n",
       "      <td>1</td>\n",
       "      <td>0</td>\n",
       "    </tr>\n",
       "    <tr>\n",
       "      <th>slope</th>\n",
       "      <td>1</td>\n",
       "      <td>2</td>\n",
       "      <td>2</td>\n",
       "      <td>1</td>\n",
       "      <td>0</td>\n",
       "      <td>0</td>\n",
       "    </tr>\n",
       "    <tr>\n",
       "      <th>target</th>\n",
       "      <td>95</td>\n",
       "      <td>95</td>\n",
       "      <td>46</td>\n",
       "      <td>45</td>\n",
       "      <td>16</td>\n",
       "      <td>5</td>\n",
       "    </tr>\n",
       "  </tbody>\n",
       "</table>\n",
       "</div>"
      ],
      "text/plain": [
       "         4   5   2   1   3  0\n",
       "sex      1   1   0   0   1  0\n",
       "slope    1   2   2   1   0  0\n",
       "target  95  95  46  45  16  5"
      ]
     },
     "execution_count": 195,
     "metadata": {},
     "output_type": "execute_result"
    }
   ],
   "source": [
    "slope= heart.groupby(['sex','slope'])['target'].count().reset_index().sort_values(by='target',ascending=False)\n",
    "slope.head(10).T"
   ]
  },
  {
   "cell_type": "markdown",
   "metadata": {},
   "source": [
    "## Berdasarkan data diatas, pengaruhnya terlihat paling tinggi pada slope dengan tinggi 1 dan 2 sehingga kesimpulannya semakin tinggi slope maka semakin besar pula kesempatan untuk terkena serangan jantung"
   ]
  },
  {
   "cell_type": "markdown",
   "metadata": {},
   "source": [
    "FBS"
   ]
  },
  {
   "cell_type": "code",
   "execution_count": 36,
   "metadata": {},
   "outputs": [
    {
     "data": {
      "image/png": "[encoded data removed]",
      "text/plain": [
       "<Figure size 1440x720 with 1 Axes>"
      ]
     },
     "metadata": {},
     "output_type": "display_data"
    }
   ],
   "source": [
    "pd.crosstab(heart.fbs,heart.target).plot(kind=\"bar\",figsize=(20,10))\n",
    "plt.title('Target vs FBS')\n",
    "plt.xlabel('FBS')\n",
    "plt.ylabel('Total')\n",
    "plt.savefig('heartvsfbs.png')\n",
    "plt.show()"
   ]
  },
  {
   "cell_type": "code",
   "execution_count": 310,
   "metadata": {},
   "outputs": [
    {
     "data": {
      "text/html": [
       "<div>\n",
       "<style scoped>\n",
       "    .dataframe tbody tr th:only-of-type {\n",
       "        vertical-align: middle;\n",
       "    }\n",
       "\n",
       "    .dataframe tbody tr th {\n",
       "        vertical-align: top;\n",
       "    }\n",
       "\n",
       "    .dataframe thead th {\n",
       "        text-align: right;\n",
       "    }\n",
       "</style>\n",
       "<table border=\"1\" class=\"dataframe\">\n",
       "  <thead>\n",
       "    <tr style=\"text-align: right;\">\n",
       "      <th></th>\n",
       "      <th>2</th>\n",
       "      <th>0</th>\n",
       "      <th>3</th>\n",
       "      <th>1</th>\n",
       "    </tr>\n",
       "  </thead>\n",
       "  <tbody>\n",
       "    <tr>\n",
       "      <th>sex</th>\n",
       "      <td>1</td>\n",
       "      <td>0</td>\n",
       "      <td>1</td>\n",
       "      <td>0</td>\n",
       "    </tr>\n",
       "    <tr>\n",
       "      <th>fbs</th>\n",
       "      <td>0</td>\n",
       "      <td>0</td>\n",
       "      <td>1</td>\n",
       "      <td>1</td>\n",
       "    </tr>\n",
       "    <tr>\n",
       "      <th>target</th>\n",
       "      <td>173</td>\n",
       "      <td>84</td>\n",
       "      <td>33</td>\n",
       "      <td>12</td>\n",
       "    </tr>\n",
       "  </tbody>\n",
       "</table>\n",
       "</div>"
      ],
      "text/plain": [
       "          2   0   3   1\n",
       "sex       1   0   1   0\n",
       "fbs       0   0   1   1\n",
       "target  173  84  33  12"
      ]
     },
     "execution_count": 310,
     "metadata": {},
     "output_type": "execute_result"
    }
   ],
   "source": [
    "fbs= heart.groupby(['sex','fbs'])['target'].count().reset_index().sort_values(by='target',ascending=False)\n",
    "fbs.head(10).T"
   ]
  },
  {
   "cell_type": "markdown",
   "metadata": {},
   "source": [
    "# Berdasarkan data diatas, dapat dilihat bahwa gula darah yang rendah ternyata berpotensi untuk serangan jantung. Untuk segi gender sendiri pria yang paling terdampak disini"
   ]
  },
  {
   "cell_type": "markdown",
   "metadata": {},
   "source": [
    "CA"
   ]
  },
  {
   "cell_type": "code",
   "execution_count": 37,
   "metadata": {},
   "outputs": [
    {
     "data": {
      "image/png": "[encoded data removed]",
      "text/plain": [
       "<Figure size 1440x720 with 1 Axes>"
      ]
     },
     "metadata": {},
     "output_type": "display_data"
    }
   ],
   "source": [
    "pd.crosstab(heart.ca,heart.target).plot(kind=\"bar\",figsize=(20,10))\n",
    "plt.title('Target vs Ca')\n",
    "plt.xlabel('Ca')\n",
    "plt.ylabel('Total')\n",
    "plt.savefig('heartvsca.png')\n",
    "plt.show()"
   ]
  },
  {
   "cell_type": "code",
   "execution_count": 313,
   "metadata": {},
   "outputs": [
    {
     "data": {
      "text/html": [
       "<div>\n",
       "<style scoped>\n",
       "    .dataframe tbody tr th:only-of-type {\n",
       "        vertical-align: middle;\n",
       "    }\n",
       "\n",
       "    .dataframe tbody tr th {\n",
       "        vertical-align: top;\n",
       "    }\n",
       "\n",
       "    .dataframe thead th {\n",
       "        text-align: right;\n",
       "    }\n",
       "</style>\n",
       "<table border=\"1\" class=\"dataframe\">\n",
       "  <thead>\n",
       "    <tr style=\"text-align: right;\">\n",
       "      <th></th>\n",
       "      <th>4</th>\n",
       "      <th>0</th>\n",
       "      <th>5</th>\n",
       "      <th>6</th>\n",
       "      <th>7</th>\n",
       "      <th>1</th>\n",
       "      <th>2</th>\n",
       "      <th>3</th>\n",
       "      <th>8</th>\n",
       "    </tr>\n",
       "  </thead>\n",
       "  <tbody>\n",
       "    <tr>\n",
       "      <th>sex</th>\n",
       "      <td>1</td>\n",
       "      <td>0</td>\n",
       "      <td>1</td>\n",
       "      <td>1</td>\n",
       "      <td>1</td>\n",
       "      <td>0</td>\n",
       "      <td>0</td>\n",
       "      <td>0</td>\n",
       "      <td>1</td>\n",
       "    </tr>\n",
       "    <tr>\n",
       "      <th>ca</th>\n",
       "      <td>0</td>\n",
       "      <td>0</td>\n",
       "      <td>1</td>\n",
       "      <td>2</td>\n",
       "      <td>3</td>\n",
       "      <td>1</td>\n",
       "      <td>2</td>\n",
       "      <td>3</td>\n",
       "      <td>4</td>\n",
       "    </tr>\n",
       "    <tr>\n",
       "      <th>target</th>\n",
       "      <td>111</td>\n",
       "      <td>64</td>\n",
       "      <td>50</td>\n",
       "      <td>25</td>\n",
       "      <td>16</td>\n",
       "      <td>15</td>\n",
       "      <td>13</td>\n",
       "      <td>4</td>\n",
       "      <td>4</td>\n",
       "    </tr>\n",
       "  </tbody>\n",
       "</table>\n",
       "</div>"
      ],
      "text/plain": [
       "          4   0   5   6   7   1   2  3  8\n",
       "sex       1   0   1   1   1   0   0  0  1\n",
       "ca        0   0   1   2   3   1   2  3  4\n",
       "target  111  64  50  25  16  15  13  4  4"
      ]
     },
     "execution_count": 313,
     "metadata": {},
     "output_type": "execute_result"
    }
   ],
   "source": [
    "ca= heart.groupby(['sex','ca'])['target'].count().reset_index().sort_values(by='target',ascending=False)\n",
    "ca.head(10).T"
   ]
  },
  {
   "cell_type": "markdown",
   "metadata": {},
   "source": [
    "# dapat disimpulkan bahwa tipe 0 pada number of vesel sangat berpengaruh terhadap penyakit jantung, hal ini berlaku untuk laki-laki dan perempuan"
   ]
  },
  {
   "cell_type": "markdown",
   "metadata": {},
   "source": [
    "# Data Preprocessing (Lakukan Proprocessing Data sesuai kebutuhan) (10 point) \n",
    "- https://towardsdatascience.com/data-preprocessing-concepts-fa946d11c825\n",
    "\n"
   ]
  },
  {
   "cell_type": "markdown",
   "metadata": {},
   "source": [
    "## Fixing Type of the Columns"
   ]
  },
  {
   "cell_type": "code",
   "execution_count": 94,
   "metadata": {},
   "outputs": [
    {
     "name": "stdout",
     "output_type": "stream",
     "text": [
      "<class 'pandas.core.frame.DataFrame'>\n",
      "Int64Index: 302 entries, 0 to 302\n",
      "Data columns (total 14 columns):\n",
      " #   Column    Non-Null Count  Dtype  \n",
      "---  ------    --------------  -----  \n",
      " 0   age       302 non-null    int64  \n",
      " 1   sex       302 non-null    int64  \n",
      " 2   cp        302 non-null    int64  \n",
      " 3   trestbps  302 non-null    int64  \n",
      " 4   chol      302 non-null    int64  \n",
      " 5   fbs       302 non-null    int64  \n",
      " 6   restecg   302 non-null    int64  \n",
      " 7   thalach   302 non-null    int64  \n",
      " 8   exang     302 non-null    int64  \n",
      " 9   oldpeak   302 non-null    float64\n",
      " 10  slope     302 non-null    int64  \n",
      " 11  ca        302 non-null    int64  \n",
      " 12  thal      302 non-null    int64  \n",
      " 13  target    302 non-null    int64  \n",
      "dtypes: float64(1), int64(13)\n",
      "memory usage: 45.4 KB\n"
     ]
    }
   ],
   "source": [
    "heart.info()"
   ]
  },
  {
   "cell_type": "code",
   "execution_count": 64,
   "metadata": {},
   "outputs": [],
   "source": [
    "heart['sex'] = heart['sex'].astype('object')\n",
    "heart['cp'] = heart['cp'].astype('object')\n",
    "heart['fbs'] = heart['fbs'].astype('object')\n",
    "heart['restecg'] = heart['restecg'].astype('object')\n",
    "heart['exang'] = heart['exang'].astype('object')\n",
    "heart['slope'] = heart['slope'].astype('object')\n",
    "heart['thal'] = heart['thal'].astype('object')"
   ]
  },
  {
   "cell_type": "markdown",
   "metadata": {},
   "source": [
    "# Feature Engineering & Feature Selection (10 point)"
   ]
  },
  {
   "cell_type": "markdown",
   "metadata": {},
   "source": [
    "NORMALIZATION"
   ]
  },
  {
   "cell_type": "code",
   "execution_count": 65,
   "metadata": {},
   "outputs": [],
   "source": [
    "y = heart.target.values\n",
    "x= heart.drop(['target'], axis = 1)"
   ]
  },
  {
   "cell_type": "code",
   "execution_count": 66,
   "metadata": {},
   "outputs": [],
   "source": [
    "x = (x - np.min(x)) / (np.max(x) - np.min(x)).values"
   ]
  },
  {
   "cell_type": "markdown",
   "metadata": {},
   "source": [
    "SPLITTING"
   ]
  },
  {
   "cell_type": "code",
   "execution_count": 67,
   "metadata": {},
   "outputs": [],
   "source": [
    "x_train, x_test, y_train, y_test = train_test_split(x,y,test_size = 0.2,random_state=42)"
   ]
  },
  {
   "cell_type": "markdown",
   "metadata": {},
   "source": [
    "SCALLING"
   ]
  },
  {
   "cell_type": "code",
   "execution_count": 68,
   "metadata": {},
   "outputs": [],
   "source": [
    "scaler = StandardScaler()\n",
    "x_train = scaler.fit_transform(x_train)\n",
    "x_test = scaler.fit_transform(x_test)"
   ]
  },
  {
   "cell_type": "markdown",
   "metadata": {},
   "source": [
    "# Lakukan Training Model Machine Learning Minimal 3 Algoritma yang berbeda (5 point)"
   ]
  },
  {
   "cell_type": "markdown",
   "metadata": {},
   "source": [
    "LOGISTIC REGRESSIOn"
   ]
  },
  {
   "cell_type": "code",
   "execution_count": 69,
   "metadata": {},
   "outputs": [
    {
     "data": {
      "text/plain": [
       "LogisticRegression()"
      ]
     },
     "execution_count": 69,
     "metadata": {},
     "output_type": "execute_result"
    }
   ],
   "source": [
    "model = LogisticRegression()\n",
    "model.fit(x_train, y_train)"
   ]
  },
  {
   "cell_type": "code",
   "execution_count": 70,
   "metadata": {},
   "outputs": [
    {
     "name": "stdout",
     "output_type": "stream",
     "text": [
      "[[ 0.00695707 -0.79682823  0.67670023 -0.45363074 -0.2015395   0.16362527\n",
      "   0.27077403  0.51917179 -0.49263612 -0.51065389  0.48968628 -0.79894986\n",
      "  -0.62877776]]\n",
      "[0.1665015]\n"
     ]
    }
   ],
   "source": [
    "print(model.coef_)\n",
    "# nilai intercept\n",
    "print(model.intercept_)"
   ]
  },
  {
   "cell_type": "code",
   "execution_count": 71,
   "metadata": {},
   "outputs": [
    {
     "data": {
      "text/plain": [
       "array([0, 0, 1, 0, 1, 1, 1, 0, 0, 1, 1, 0, 1, 0, 1, 1, 1, 0, 0, 0, 1, 0,\n",
       "       0, 1, 1, 1, 0, 1, 0, 1, 0, 0, 1, 0, 1, 0, 1, 1, 1, 1, 1, 1, 1, 1,\n",
       "       1, 0, 1, 1, 0, 0, 0, 0, 1, 1, 0, 0, 0, 1, 0, 1, 1])"
      ]
     },
     "execution_count": 71,
     "metadata": {},
     "output_type": "execute_result"
    }
   ],
   "source": [
    "y_pred = model.predict(x_test)\n",
    "y_pred"
   ]
  },
  {
   "cell_type": "code",
   "execution_count": 72,
   "metadata": {},
   "outputs": [
    {
     "data": {
      "text/plain": [
       "array([0.9488139, 0.0511861])"
      ]
     },
     "execution_count": 72,
     "metadata": {},
     "output_type": "execute_result"
    }
   ],
   "source": [
    "y_pred_proba = model.predict_proba(x_test)\n",
    "y_pred_proba[0]"
   ]
  },
  {
   "cell_type": "code",
   "execution_count": 73,
   "metadata": {},
   "outputs": [
    {
     "data": {
      "text/plain": [
       "array([[24,  5],\n",
       "       [ 3, 29]])"
      ]
     },
     "execution_count": 73,
     "metadata": {},
     "output_type": "execute_result"
    }
   ],
   "source": [
    "confusion_matrix(y_test, y_pred)"
   ]
  },
  {
   "cell_type": "code",
   "execution_count": 74,
   "metadata": {},
   "outputs": [
    {
     "data": {
      "image/png": "[encoded data removed]",
      "text/plain": [
       "<Figure size 576x360 with 2 Axes>"
      ]
     },
     "metadata": {
      "needs_background": "dark"
     },
     "output_type": "display_data"
    }
   ],
   "source": [
    "f, ax = plt.subplots(figsize=(8,5))\n",
    "sns.heatmap(confusion_matrix(y_test, y_pred), annot=True, fmt=\".0f\", ax = ax)\n",
    "plt.xlabel('y Prediksi')\n",
    "plt.ylabel('y Aktual')\n",
    "plt.savefig('confusionmatrix.png')\n",
    "plt.show()"
   ]
  },
  {
   "cell_type": "code",
   "execution_count": 75,
   "metadata": {},
   "outputs": [
    {
     "name": "stdout",
     "output_type": "stream",
     "text": [
      "              precision    recall  f1-score   support\n",
      "\n",
      "           0       0.89      0.83      0.86        29\n",
      "           1       0.85      0.91      0.88        32\n",
      "\n",
      "    accuracy                           0.87        61\n",
      "   macro avg       0.87      0.87      0.87        61\n",
      "weighted avg       0.87      0.87      0.87        61\n",
      "\n"
     ]
    }
   ],
   "source": [
    "print(classification_report(y_test, y_pred))"
   ]
  },
  {
   "cell_type": "code",
   "execution_count": 76,
   "metadata": {},
   "outputs": [
    {
     "data": {
      "text/html": [
       "<div>\n",
       "<style scoped>\n",
       "    .dataframe tbody tr th:only-of-type {\n",
       "        vertical-align: middle;\n",
       "    }\n",
       "\n",
       "    .dataframe tbody tr th {\n",
       "        vertical-align: top;\n",
       "    }\n",
       "\n",
       "    .dataframe thead th {\n",
       "        text-align: right;\n",
       "    }\n",
       "</style>\n",
       "<table border=\"1\" class=\"dataframe\">\n",
       "  <thead>\n",
       "    <tr style=\"text-align: right;\">\n",
       "      <th></th>\n",
       "      <th>Score (%)</th>\n",
       "    </tr>\n",
       "  </thead>\n",
       "  <tbody>\n",
       "    <tr>\n",
       "      <th>accuracy</th>\n",
       "      <td>86.885246</td>\n",
       "    </tr>\n",
       "    <tr>\n",
       "      <th>recall</th>\n",
       "      <td>90.625000</td>\n",
       "    </tr>\n",
       "    <tr>\n",
       "      <th>precision</th>\n",
       "      <td>85.294118</td>\n",
       "    </tr>\n",
       "    <tr>\n",
       "      <th>roc_auc_score</th>\n",
       "      <td>86.691810</td>\n",
       "    </tr>\n",
       "    <tr>\n",
       "      <th>f1 score</th>\n",
       "      <td>87.878788</td>\n",
       "    </tr>\n",
       "  </tbody>\n",
       "</table>\n",
       "</div>"
      ],
      "text/plain": [
       "               Score (%)\n",
       "accuracy       86.885246\n",
       "recall         90.625000\n",
       "precision      85.294118\n",
       "roc_auc_score  86.691810\n",
       "f1 score       87.878788"
      ]
     },
     "execution_count": 76,
     "metadata": {},
     "output_type": "execute_result"
    }
   ],
   "source": [
    "pd.DataFrame(data = [accuracy_score(y_test, y_pred)*100, recall_score(y_test, y_pred)*100,\n",
    "                     precision_score(y_test, y_pred)*100, roc_auc_score(y_test, y_pred)*100,\n",
    "                    f1_score(y_test, y_pred)*100],\n",
    "             index = ['accuracy', 'recall', 'precision', 'roc_auc_score', 'f1 score'],\n",
    "             columns = ['Score (%)']\n",
    "            )"
   ]
  },
  {
   "cell_type": "code",
   "execution_count": 77,
   "metadata": {},
   "outputs": [
    {
     "data": {
      "text/html": [
       "<div>\n",
       "<style scoped>\n",
       "    .dataframe tbody tr th:only-of-type {\n",
       "        vertical-align: middle;\n",
       "    }\n",
       "\n",
       "    .dataframe tbody tr th {\n",
       "        vertical-align: top;\n",
       "    }\n",
       "\n",
       "    .dataframe thead th {\n",
       "        text-align: right;\n",
       "    }\n",
       "</style>\n",
       "<table border=\"1\" class=\"dataframe\">\n",
       "  <thead>\n",
       "    <tr style=\"text-align: right;\">\n",
       "      <th></th>\n",
       "      <th>0</th>\n",
       "    </tr>\n",
       "  </thead>\n",
       "  <tbody>\n",
       "    <tr>\n",
       "      <th>0</th>\n",
       "      <td>0</td>\n",
       "    </tr>\n",
       "    <tr>\n",
       "      <th>1</th>\n",
       "      <td>0</td>\n",
       "    </tr>\n",
       "    <tr>\n",
       "      <th>2</th>\n",
       "      <td>1</td>\n",
       "    </tr>\n",
       "    <tr>\n",
       "      <th>3</th>\n",
       "      <td>0</td>\n",
       "    </tr>\n",
       "    <tr>\n",
       "      <th>4</th>\n",
       "      <td>1</td>\n",
       "    </tr>\n",
       "  </tbody>\n",
       "</table>\n",
       "</div>"
      ],
      "text/plain": [
       "   0\n",
       "0  0\n",
       "1  0\n",
       "2  1\n",
       "3  0\n",
       "4  1"
      ]
     },
     "execution_count": 77,
     "metadata": {},
     "output_type": "execute_result"
    }
   ],
   "source": [
    "df1 = pd.DataFrame(y_test)\n",
    "df1.head()"
   ]
  },
  {
   "cell_type": "code",
   "execution_count": 78,
   "metadata": {},
   "outputs": [
    {
     "data": {
      "text/html": [
       "<div>\n",
       "<style scoped>\n",
       "    .dataframe tbody tr th:only-of-type {\n",
       "        vertical-align: middle;\n",
       "    }\n",
       "\n",
       "    .dataframe tbody tr th {\n",
       "        vertical-align: top;\n",
       "    }\n",
       "\n",
       "    .dataframe thead th {\n",
       "        text-align: right;\n",
       "    }\n",
       "</style>\n",
       "<table border=\"1\" class=\"dataframe\">\n",
       "  <thead>\n",
       "    <tr style=\"text-align: right;\">\n",
       "      <th></th>\n",
       "      <th>0</th>\n",
       "      <th>predict</th>\n",
       "    </tr>\n",
       "  </thead>\n",
       "  <tbody>\n",
       "    <tr>\n",
       "      <th>0</th>\n",
       "      <td>0</td>\n",
       "      <td>0</td>\n",
       "    </tr>\n",
       "    <tr>\n",
       "      <th>1</th>\n",
       "      <td>0</td>\n",
       "      <td>0</td>\n",
       "    </tr>\n",
       "    <tr>\n",
       "      <th>2</th>\n",
       "      <td>1</td>\n",
       "      <td>1</td>\n",
       "    </tr>\n",
       "    <tr>\n",
       "      <th>3</th>\n",
       "      <td>0</td>\n",
       "      <td>0</td>\n",
       "    </tr>\n",
       "    <tr>\n",
       "      <th>4</th>\n",
       "      <td>1</td>\n",
       "      <td>1</td>\n",
       "    </tr>\n",
       "  </tbody>\n",
       "</table>\n",
       "</div>"
      ],
      "text/plain": [
       "   0  predict\n",
       "0  0        0\n",
       "1  0        0\n",
       "2  1        1\n",
       "3  0        0\n",
       "4  1        1"
      ]
     },
     "execution_count": 78,
     "metadata": {},
     "output_type": "execute_result"
    }
   ],
   "source": [
    "df1['predict'] = y_pred\n",
    "df1.head()"
   ]
  },
  {
   "cell_type": "markdown",
   "metadata": {},
   "source": [
    "Random Forest Classifier"
   ]
  },
  {
   "cell_type": "code",
   "execution_count": 79,
   "metadata": {},
   "outputs": [
    {
     "data": {
      "text/plain": [
       "RandomForestClassifier()"
      ]
     },
     "execution_count": 79,
     "metadata": {},
     "output_type": "execute_result"
    }
   ],
   "source": [
    "modelRF = RandomForestClassifier() # menyimpan model algoritma decision tree ke dalam variabel 'modelRF'\n",
    "modelRF.fit(x_train, y_train) # model belajar dari data train"
   ]
  },
  {
   "cell_type": "code",
   "execution_count": 80,
   "metadata": {},
   "outputs": [],
   "source": [
    "y_predRF = modelRF.predict(x_test)"
   ]
  },
  {
   "cell_type": "code",
   "execution_count": 81,
   "metadata": {},
   "outputs": [
    {
     "data": {
      "text/plain": [
       "array([[0.95, 0.05],\n",
       "       [0.59, 0.41],\n",
       "       [0.54, 0.46],\n",
       "       [0.57, 0.43],\n",
       "       [0.27, 0.73],\n",
       "       [0.11, 0.89],\n",
       "       [0.29, 0.71],\n",
       "       [0.9 , 0.1 ],\n",
       "       [0.91, 0.09],\n",
       "       [0.43, 0.57],\n",
       "       [0.18, 0.82],\n",
       "       [0.83, 0.17],\n",
       "       [0.1 , 0.9 ],\n",
       "       [0.88, 0.12],\n",
       "       [0.03, 0.97],\n",
       "       [0.  , 1.  ],\n",
       "       [0.01, 0.99],\n",
       "       [1.  , 0.  ],\n",
       "       [0.96, 0.04],\n",
       "       [0.92, 0.08],\n",
       "       [0.48, 0.52],\n",
       "       [0.91, 0.09],\n",
       "       [0.28, 0.72],\n",
       "       [0.26, 0.74],\n",
       "       [0.33, 0.67],\n",
       "       [0.23, 0.77],\n",
       "       [0.92, 0.08],\n",
       "       [0.19, 0.81],\n",
       "       [0.93, 0.07],\n",
       "       [0.17, 0.83],\n",
       "       [0.88, 0.12],\n",
       "       [0.89, 0.11],\n",
       "       [0.63, 0.37],\n",
       "       [0.62, 0.38],\n",
       "       [0.23, 0.77],\n",
       "       [0.76, 0.24],\n",
       "       [0.29, 0.71],\n",
       "       [0.19, 0.81],\n",
       "       [0.35, 0.65],\n",
       "       [0.13, 0.87],\n",
       "       [0.2 , 0.8 ],\n",
       "       [0.12, 0.88],\n",
       "       [0.23, 0.77],\n",
       "       [0.05, 0.95],\n",
       "       [0.3 , 0.7 ],\n",
       "       [0.55, 0.45],\n",
       "       [0.36, 0.64],\n",
       "       [0.01, 0.99],\n",
       "       [0.91, 0.09],\n",
       "       [0.9 , 0.1 ],\n",
       "       [0.86, 0.14],\n",
       "       [1.  , 0.  ],\n",
       "       [0.15, 0.85],\n",
       "       [0.32, 0.68],\n",
       "       [0.89, 0.11],\n",
       "       [0.83, 0.17],\n",
       "       [0.97, 0.03],\n",
       "       [0.02, 0.98],\n",
       "       [0.88, 0.12],\n",
       "       [0.42, 0.58],\n",
       "       [0.56, 0.44]])"
      ]
     },
     "execution_count": 81,
     "metadata": {},
     "output_type": "execute_result"
    }
   ],
   "source": [
    "# jika ingin tahu probability dalam membuat tebakan\n",
    "y_pred_proba = modelRF.predict_proba(x_test)\n",
    "y_pred_proba"
   ]
  },
  {
   "cell_type": "code",
   "execution_count": 82,
   "metadata": {},
   "outputs": [
    {
     "data": {
      "image/png": "[encoded data removed]",
      "text/plain": [
       "<Figure size 576x360 with 2 Axes>"
      ]
     },
     "metadata": {
      "needs_background": "dark"
     },
     "output_type": "display_data"
    }
   ],
   "source": [
    "f, ax = plt.subplots(figsize=(8,5))\n",
    "sns.heatmap(confusion_matrix(y_test, y_predRF), annot=True, fmt='.0f', ax=ax)\n",
    "plt.xlabel('y Prediksi')\n",
    "plt.ylabel('y Aktual')\n",
    "plt.show()"
   ]
  },
  {
   "cell_type": "code",
   "execution_count": 83,
   "metadata": {},
   "outputs": [
    {
     "name": "stdout",
     "output_type": "stream",
     "text": [
      "              precision    recall  f1-score   support\n",
      "\n",
      "           0       0.86      0.86      0.86        29\n",
      "           1       0.88      0.88      0.88        32\n",
      "\n",
      "    accuracy                           0.87        61\n",
      "   macro avg       0.87      0.87      0.87        61\n",
      "weighted avg       0.87      0.87      0.87        61\n",
      "\n"
     ]
    }
   ],
   "source": [
    "# confusion matrix report\n",
    "print(classification_report(y_test, y_predRF))"
   ]
  },
  {
   "cell_type": "code",
   "execution_count": 84,
   "metadata": {},
   "outputs": [
    {
     "data": {
      "text/html": [
       "<div>\n",
       "<style scoped>\n",
       "    .dataframe tbody tr th:only-of-type {\n",
       "        vertical-align: middle;\n",
       "    }\n",
       "\n",
       "    .dataframe tbody tr th {\n",
       "        vertical-align: top;\n",
       "    }\n",
       "\n",
       "    .dataframe thead th {\n",
       "        text-align: right;\n",
       "    }\n",
       "</style>\n",
       "<table border=\"1\" class=\"dataframe\">\n",
       "  <thead>\n",
       "    <tr style=\"text-align: right;\">\n",
       "      <th></th>\n",
       "      <th>Score (%)</th>\n",
       "    </tr>\n",
       "  </thead>\n",
       "  <tbody>\n",
       "    <tr>\n",
       "      <th>accuracy</th>\n",
       "      <td>86.885246</td>\n",
       "    </tr>\n",
       "    <tr>\n",
       "      <th>recall</th>\n",
       "      <td>87.500000</td>\n",
       "    </tr>\n",
       "    <tr>\n",
       "      <th>precision</th>\n",
       "      <td>87.500000</td>\n",
       "    </tr>\n",
       "    <tr>\n",
       "      <th>roc_auc_score</th>\n",
       "      <td>86.853448</td>\n",
       "    </tr>\n",
       "    <tr>\n",
       "      <th>f1 score</th>\n",
       "      <td>87.500000</td>\n",
       "    </tr>\n",
       "  </tbody>\n",
       "</table>\n",
       "</div>"
      ],
      "text/plain": [
       "               Score (%)\n",
       "accuracy       86.885246\n",
       "recall         87.500000\n",
       "precision      87.500000\n",
       "roc_auc_score  86.853448\n",
       "f1 score       87.500000"
      ]
     },
     "execution_count": 84,
     "metadata": {},
     "output_type": "execute_result"
    }
   ],
   "source": [
    "pd.DataFrame(data = [accuracy_score(y_test, y_predRF)*100, recall_score(y_test, y_predRF)*100,\n",
    "                     precision_score(y_test, y_predRF)*100, roc_auc_score(y_test, y_predRF)*100,\n",
    "                    f1_score(y_test, y_predRF)*100],\n",
    "             index = ['accuracy', 'recall', 'precision', 'roc_auc_score', 'f1 score'],\n",
    "             columns = ['Score (%)']\n",
    "            )"
   ]
  },
  {
   "cell_type": "code",
   "execution_count": 85,
   "metadata": {},
   "outputs": [
    {
     "data": {
      "text/html": [
       "<div>\n",
       "<style scoped>\n",
       "    .dataframe tbody tr th:only-of-type {\n",
       "        vertical-align: middle;\n",
       "    }\n",
       "\n",
       "    .dataframe tbody tr th {\n",
       "        vertical-align: top;\n",
       "    }\n",
       "\n",
       "    .dataframe thead th {\n",
       "        text-align: right;\n",
       "    }\n",
       "</style>\n",
       "<table border=\"1\" class=\"dataframe\">\n",
       "  <thead>\n",
       "    <tr style=\"text-align: right;\">\n",
       "      <th></th>\n",
       "      <th>0</th>\n",
       "      <th>predict</th>\n",
       "      <th>predictRF</th>\n",
       "    </tr>\n",
       "  </thead>\n",
       "  <tbody>\n",
       "    <tr>\n",
       "      <th>0</th>\n",
       "      <td>0</td>\n",
       "      <td>0</td>\n",
       "      <td>0</td>\n",
       "    </tr>\n",
       "    <tr>\n",
       "      <th>1</th>\n",
       "      <td>0</td>\n",
       "      <td>0</td>\n",
       "      <td>0</td>\n",
       "    </tr>\n",
       "    <tr>\n",
       "      <th>2</th>\n",
       "      <td>1</td>\n",
       "      <td>1</td>\n",
       "      <td>0</td>\n",
       "    </tr>\n",
       "    <tr>\n",
       "      <th>3</th>\n",
       "      <td>0</td>\n",
       "      <td>0</td>\n",
       "      <td>0</td>\n",
       "    </tr>\n",
       "    <tr>\n",
       "      <th>4</th>\n",
       "      <td>1</td>\n",
       "      <td>1</td>\n",
       "      <td>1</td>\n",
       "    </tr>\n",
       "  </tbody>\n",
       "</table>\n",
       "</div>"
      ],
      "text/plain": [
       "   0  predict  predictRF\n",
       "0  0        0          0\n",
       "1  0        0          0\n",
       "2  1        1          0\n",
       "3  0        0          0\n",
       "4  1        1          1"
      ]
     },
     "execution_count": 85,
     "metadata": {},
     "output_type": "execute_result"
    }
   ],
   "source": [
    "df1['predictRF'] = y_predRF\n",
    "df1.head()"
   ]
  },
  {
   "cell_type": "markdown",
   "metadata": {},
   "source": [
    "XGB CLASSIFIER"
   ]
  },
  {
   "cell_type": "code",
   "execution_count": 86,
   "metadata": {},
   "outputs": [
    {
     "data": {
      "text/plain": [
       "XGBClassifier(base_score=0.5, booster='gbtree', colsample_bylevel=1,\n",
       "              colsample_bynode=1, colsample_bytree=1, gamma=0, gpu_id=-1,\n",
       "              importance_type='gain', interaction_constraints='',\n",
       "              learning_rate=0.300000012, max_delta_step=0, max_depth=6,\n",
       "              min_child_weight=1, missing=nan, monotone_constraints='()',\n",
       "              n_estimators=100, n_jobs=0, num_parallel_tree=1, random_state=0,\n",
       "              reg_alpha=0, reg_lambda=1, scale_pos_weight=1, subsample=1,\n",
       "              tree_method='exact', validate_parameters=1, verbosity=None)"
      ]
     },
     "execution_count": 86,
     "metadata": {},
     "output_type": "execute_result"
    }
   ],
   "source": [
    "modelXGB = XGBClassifier()\n",
    "modelXGB.fit(x_train, y_train)"
   ]
  },
  {
   "cell_type": "code",
   "execution_count": 87,
   "metadata": {},
   "outputs": [],
   "source": [
    "y_predXGB = modelXGB.predict(x_test)"
   ]
  },
  {
   "cell_type": "code",
   "execution_count": 88,
   "metadata": {},
   "outputs": [
    {
     "data": {
      "text/plain": [
       "array([[9.97562885e-01, 2.43714196e-03],\n",
       "       [7.95047462e-01, 2.04952553e-01],\n",
       "       [7.54333079e-01, 2.45666936e-01],\n",
       "       [6.13738179e-01, 3.86261851e-01],\n",
       "       [1.62027478e-02, 9.83797252e-01],\n",
       "       [2.72065401e-03, 9.97279346e-01],\n",
       "       [3.32562387e-01, 6.67437613e-01],\n",
       "       [9.93912518e-01, 6.08749688e-03],\n",
       "       [9.99072671e-01, 9.27302404e-04],\n",
       "       [8.66835892e-01, 1.33164108e-01],\n",
       "       [6.91348314e-03, 9.93086517e-01],\n",
       "       [9.98008311e-01, 1.99170760e-03],\n",
       "       [2.80654430e-02, 9.71934557e-01],\n",
       "       [9.97493505e-01, 2.50648847e-03],\n",
       "       [1.11275911e-03, 9.98887241e-01],\n",
       "       [1.97947025e-04, 9.99802053e-01],\n",
       "       [4.02271748e-04, 9.99597728e-01],\n",
       "       [9.99925554e-01, 7.44357458e-05],\n",
       "       [9.96971846e-01, 3.02814599e-03],\n",
       "       [9.98442531e-01, 1.55744422e-03],\n",
       "       [2.92506278e-01, 7.07493722e-01],\n",
       "       [9.95232821e-01, 4.76719998e-03],\n",
       "       [4.78637218e-03, 9.95213628e-01],\n",
       "       [1.37234926e-02, 9.86276507e-01],\n",
       "       [7.54599571e-02, 9.24540043e-01],\n",
       "       [5.97270727e-02, 9.40272927e-01],\n",
       "       [9.95720267e-01, 4.27974854e-03],\n",
       "       [1.02432370e-02, 9.89756763e-01],\n",
       "       [9.99172211e-01, 8.27798271e-04],\n",
       "       [2.59466171e-02, 9.74053383e-01],\n",
       "       [9.47479010e-01, 5.25209643e-02],\n",
       "       [9.98447657e-01, 1.55235396e-03],\n",
       "       [9.83830512e-01, 1.61695145e-02],\n",
       "       [9.88383293e-01, 1.16166780e-02],\n",
       "       [6.34931922e-02, 9.36506808e-01],\n",
       "       [9.95356500e-01, 4.64349659e-03],\n",
       "       [9.62625146e-02, 9.03737485e-01],\n",
       "       [1.75727427e-01, 8.24272573e-01],\n",
       "       [2.85124183e-02, 9.71487582e-01],\n",
       "       [5.18147945e-02, 9.48185205e-01],\n",
       "       [1.59797668e-02, 9.84020233e-01],\n",
       "       [4.83215451e-02, 9.51678455e-01],\n",
       "       [1.59087777e-02, 9.84091222e-01],\n",
       "       [4.76652384e-03, 9.95233476e-01],\n",
       "       [1.14650965e-01, 8.85349035e-01],\n",
       "       [7.04572439e-01, 2.95427591e-01],\n",
       "       [9.90834236e-02, 9.00916576e-01],\n",
       "       [1.09076500e-04, 9.99890924e-01],\n",
       "       [9.89291370e-01, 1.07086496e-02],\n",
       "       [9.93477941e-01, 6.52208831e-03],\n",
       "       [9.88457143e-01, 1.15428725e-02],\n",
       "       [9.99859273e-01, 1.40746939e-04],\n",
       "       [1.06777549e-02, 9.89322245e-01],\n",
       "       [3.41782987e-01, 6.58217013e-01],\n",
       "       [9.99700904e-01, 2.99074949e-04],\n",
       "       [9.60681617e-01, 3.93183976e-02],\n",
       "       [9.99038935e-01, 9.61083744e-04],\n",
       "       [5.58912754e-04, 9.99441087e-01],\n",
       "       [9.94729877e-01, 5.27014304e-03],\n",
       "       [3.11308205e-01, 6.88691795e-01],\n",
       "       [9.44995403e-01, 5.50045930e-02]], dtype=float32)"
      ]
     },
     "execution_count": 88,
     "metadata": {},
     "output_type": "execute_result"
    }
   ],
   "source": [
    "# jika ingin tahu probability dalam membuat tebakan\n",
    "y_pred_proba = modelXGB.predict_proba(x_test)\n",
    "y_pred_proba"
   ]
  },
  {
   "cell_type": "code",
   "execution_count": 89,
   "metadata": {},
   "outputs": [
    {
     "data": {
      "image/png": "[encoded data removed]",
      "text/plain": [
       "<Figure size 576x360 with 2 Axes>"
      ]
     },
     "metadata": {
      "needs_background": "dark"
     },
     "output_type": "display_data"
    }
   ],
   "source": [
    "f, ax = plt.subplots(figsize=(8,5))\n",
    "sns.heatmap(confusion_matrix(y_test, y_predXGB), annot=True, fmt='.0f', ax=ax)\n",
    "plt.xlabel('y Prediksi')\n",
    "plt.ylabel('y Aktual')\n",
    "plt.show()"
   ]
  },
  {
   "cell_type": "code",
   "execution_count": 90,
   "metadata": {},
   "outputs": [
    {
     "name": "stdout",
     "output_type": "stream",
     "text": [
      "              precision    recall  f1-score   support\n",
      "\n",
      "           0       0.83      0.86      0.85        29\n",
      "           1       0.87      0.84      0.86        32\n",
      "\n",
      "    accuracy                           0.85        61\n",
      "   macro avg       0.85      0.85      0.85        61\n",
      "weighted avg       0.85      0.85      0.85        61\n",
      "\n"
     ]
    }
   ],
   "source": [
    "# confusion matrix report\n",
    "print(classification_report(y_test, y_predXGB))"
   ]
  },
  {
   "cell_type": "code",
   "execution_count": 91,
   "metadata": {},
   "outputs": [
    {
     "data": {
      "text/html": [
       "<div>\n",
       "<style scoped>\n",
       "    .dataframe tbody tr th:only-of-type {\n",
       "        vertical-align: middle;\n",
       "    }\n",
       "\n",
       "    .dataframe tbody tr th {\n",
       "        vertical-align: top;\n",
       "    }\n",
       "\n",
       "    .dataframe thead th {\n",
       "        text-align: right;\n",
       "    }\n",
       "</style>\n",
       "<table border=\"1\" class=\"dataframe\">\n",
       "  <thead>\n",
       "    <tr style=\"text-align: right;\">\n",
       "      <th></th>\n",
       "      <th>Score (%)</th>\n",
       "    </tr>\n",
       "  </thead>\n",
       "  <tbody>\n",
       "    <tr>\n",
       "      <th>accuracy</th>\n",
       "      <td>85.245902</td>\n",
       "    </tr>\n",
       "    <tr>\n",
       "      <th>recall</th>\n",
       "      <td>84.375000</td>\n",
       "    </tr>\n",
       "    <tr>\n",
       "      <th>precision</th>\n",
       "      <td>87.096774</td>\n",
       "    </tr>\n",
       "    <tr>\n",
       "      <th>roc_auc_score</th>\n",
       "      <td>85.290948</td>\n",
       "    </tr>\n",
       "    <tr>\n",
       "      <th>f1 score</th>\n",
       "      <td>85.714286</td>\n",
       "    </tr>\n",
       "  </tbody>\n",
       "</table>\n",
       "</div>"
      ],
      "text/plain": [
       "               Score (%)\n",
       "accuracy       85.245902\n",
       "recall         84.375000\n",
       "precision      87.096774\n",
       "roc_auc_score  85.290948\n",
       "f1 score       85.714286"
      ]
     },
     "execution_count": 91,
     "metadata": {},
     "output_type": "execute_result"
    }
   ],
   "source": [
    "pd.DataFrame(data = [accuracy_score(y_test, y_predXGB)*100, recall_score(y_test, y_predXGB)*100,\n",
    "                     precision_score(y_test, y_predXGB)*100, roc_auc_score(y_test, y_predXGB)*100,\n",
    "                    f1_score(y_test, y_predXGB)*100],\n",
    "             index = ['accuracy', 'recall', 'precision', 'roc_auc_score', 'f1 score'],\n",
    "             columns = ['Score (%)']\n",
    "            )"
   ]
  },
  {
   "cell_type": "code",
   "execution_count": 92,
   "metadata": {},
   "outputs": [
    {
     "data": {
      "text/html": [
       "<div>\n",
       "<style scoped>\n",
       "    .dataframe tbody tr th:only-of-type {\n",
       "        vertical-align: middle;\n",
       "    }\n",
       "\n",
       "    .dataframe tbody tr th {\n",
       "        vertical-align: top;\n",
       "    }\n",
       "\n",
       "    .dataframe thead th {\n",
       "        text-align: right;\n",
       "    }\n",
       "</style>\n",
       "<table border=\"1\" class=\"dataframe\">\n",
       "  <thead>\n",
       "    <tr style=\"text-align: right;\">\n",
       "      <th></th>\n",
       "      <th>0</th>\n",
       "      <th>predict</th>\n",
       "      <th>predictRF</th>\n",
       "      <th>predictXGB</th>\n",
       "    </tr>\n",
       "  </thead>\n",
       "  <tbody>\n",
       "    <tr>\n",
       "      <th>0</th>\n",
       "      <td>0</td>\n",
       "      <td>0</td>\n",
       "      <td>0</td>\n",
       "      <td>0</td>\n",
       "    </tr>\n",
       "    <tr>\n",
       "      <th>1</th>\n",
       "      <td>0</td>\n",
       "      <td>0</td>\n",
       "      <td>0</td>\n",
       "      <td>0</td>\n",
       "    </tr>\n",
       "    <tr>\n",
       "      <th>2</th>\n",
       "      <td>1</td>\n",
       "      <td>1</td>\n",
       "      <td>0</td>\n",
       "      <td>0</td>\n",
       "    </tr>\n",
       "    <tr>\n",
       "      <th>3</th>\n",
       "      <td>0</td>\n",
       "      <td>0</td>\n",
       "      <td>0</td>\n",
       "      <td>0</td>\n",
       "    </tr>\n",
       "    <tr>\n",
       "      <th>4</th>\n",
       "      <td>1</td>\n",
       "      <td>1</td>\n",
       "      <td>1</td>\n",
       "      <td>1</td>\n",
       "    </tr>\n",
       "  </tbody>\n",
       "</table>\n",
       "</div>"
      ],
      "text/plain": [
       "   0  predict  predictRF  predictXGB\n",
       "0  0        0          0           0\n",
       "1  0        0          0           0\n",
       "2  1        1          0           0\n",
       "3  0        0          0           0\n",
       "4  1        1          1           1"
      ]
     },
     "execution_count": 92,
     "metadata": {},
     "output_type": "execute_result"
    }
   ],
   "source": [
    "df1['predictXGB'] = y_predXGB\n",
    "df1.head()"
   ]
  },
  {
   "cell_type": "markdown",
   "metadata": {},
   "source": [
    "# Lakukan Hyper Parameter Tuning untuk ketiga algoritma yang anda pilih (5 point)"
   ]
  },
  {
   "cell_type": "markdown",
   "metadata": {},
   "source": [
    "LOGISTIC REGRESSION"
   ]
  },
  {
   "cell_type": "code",
   "execution_count": 93,
   "metadata": {},
   "outputs": [
    {
     "data": {
      "text/plain": [
       "{'C': 1.0,\n",
       " 'class_weight': None,\n",
       " 'dual': False,\n",
       " 'fit_intercept': True,\n",
       " 'intercept_scaling': 1,\n",
       " 'l1_ratio': None,\n",
       " 'max_iter': 100,\n",
       " 'multi_class': 'auto',\n",
       " 'n_jobs': None,\n",
       " 'penalty': 'l2',\n",
       " 'random_state': None,\n",
       " 'solver': 'lbfgs',\n",
       " 'tol': 0.0001,\n",
       " 'verbose': 0,\n",
       " 'warm_start': False}"
      ]
     },
     "execution_count": 93,
     "metadata": {},
     "output_type": "execute_result"
    }
   ],
   "source": [
    "model.get_params()"
   ]
  },
  {
   "cell_type": "code",
   "execution_count": 99,
   "metadata": {},
   "outputs": [
    {
     "name": "stdout",
     "output_type": "stream",
     "text": [
      "              precision    recall  f1-score   support\n",
      "\n",
      "           0       0.89      0.83      0.86        29\n",
      "           1       0.85      0.91      0.88        32\n",
      "\n",
      "    accuracy                           0.87        61\n",
      "   macro avg       0.87      0.87      0.87        61\n",
      "weighted avg       0.87      0.87      0.87        61\n",
      "\n"
     ]
    }
   ],
   "source": [
    "penalty = ['l1', 'l2']\n",
    "C = np.logspace(-4,4,20)\n",
    "\n",
    "hyperparameters = dict(penalty=penalty, C=C)\n",
    "\n",
    "logreg = LogisticRegression()\n",
    "\n",
    "clf = GridSearchCV(logreg, hyperparameters, cv=)\n",
    "\n",
    "best_model = clf.fit(x_train,y_train)\n",
    "\n",
    "print(classification_report(y_test, y_pred))"
   ]
  },
  {
   "cell_type": "code",
   "execution_count": 308,
   "metadata": {},
   "outputs": [
    {
     "data": {
      "text/plain": [
       "LogisticRegression(C=0.08858667904100823)"
      ]
     },
     "execution_count": 308,
     "metadata": {},
     "output_type": "execute_result"
    }
   ],
   "source": [
    "best_model.best_estimator_"
   ]
  },
  {
   "cell_type": "code",
   "execution_count": 268,
   "metadata": {},
   "outputs": [
    {
     "data": {
      "image/png": "[encoded data removed]",
      "text/plain": [
       "<Figure size 576x360 with 2 Axes>"
      ]
     },
     "metadata": {
      "needs_background": "dark"
     },
     "output_type": "display_data"
    }
   ],
   "source": [
    "f, ax = plt.subplots(figsize=(8,5))\n",
    "sns.heatmap(confusion_matrix(y_test, y_pred), annot=True, fmt='.0f', ax=ax)\n",
    "plt.xlabel('y Prediksi')\n",
    "plt.ylabel('y Aktual')\n",
    "plt.show()"
   ]
  },
  {
   "cell_type": "code",
   "execution_count": 299,
   "metadata": {},
   "outputs": [
    {
     "data": {
      "text/html": [
       "<div>\n",
       "<style scoped>\n",
       "    .dataframe tbody tr th:only-of-type {\n",
       "        vertical-align: middle;\n",
       "    }\n",
       "\n",
       "    .dataframe tbody tr th {\n",
       "        vertical-align: top;\n",
       "    }\n",
       "\n",
       "    .dataframe thead th {\n",
       "        text-align: right;\n",
       "    }\n",
       "</style>\n",
       "<table border=\"1\" class=\"dataframe\">\n",
       "  <thead>\n",
       "    <tr style=\"text-align: right;\">\n",
       "      <th></th>\n",
       "      <th>Score (%)</th>\n",
       "    </tr>\n",
       "  </thead>\n",
       "  <tbody>\n",
       "    <tr>\n",
       "      <th>accuracy</th>\n",
       "      <td>86.885246</td>\n",
       "    </tr>\n",
       "    <tr>\n",
       "      <th>recall</th>\n",
       "      <td>90.625000</td>\n",
       "    </tr>\n",
       "    <tr>\n",
       "      <th>precision</th>\n",
       "      <td>85.294118</td>\n",
       "    </tr>\n",
       "    <tr>\n",
       "      <th>roc_auc_score</th>\n",
       "      <td>86.691810</td>\n",
       "    </tr>\n",
       "    <tr>\n",
       "      <th>f1 score</th>\n",
       "      <td>87.878788</td>\n",
       "    </tr>\n",
       "  </tbody>\n",
       "</table>\n",
       "</div>"
      ],
      "text/plain": [
       "               Score (%)\n",
       "accuracy       86.885246\n",
       "recall         90.625000\n",
       "precision      85.294118\n",
       "roc_auc_score  86.691810\n",
       "f1 score       87.878788"
      ]
     },
     "execution_count": 299,
     "metadata": {},
     "output_type": "execute_result"
    }
   ],
   "source": [
    "LR2 = pd.DataFrame(data = [accuracy_score(y_test, y_pred)*100, recall_score(y_test, y_pred)*100,\n",
    "                     precision_score(y_test, y_pred)*100, roc_auc_score(y_test, y_pred)*100,\n",
    "                    f1_score(y_test, y_pred)*100],\n",
    "             index = ['accuracy', 'recall', 'precision', 'roc_auc_score', 'f1 score'],\n",
    "             columns = ['Score (%)']\n",
    "            )\n",
    "LR2"
   ]
  },
  {
   "cell_type": "markdown",
   "metadata": {},
   "source": [
    "DECISION TREE"
   ]
  },
  {
   "cell_type": "code",
   "execution_count": 236,
   "metadata": {},
   "outputs": [
    {
     "data": {
      "text/plain": [
       "{'ccp_alpha': 0.0,\n",
       " 'class_weight': None,\n",
       " 'criterion': 'gini',\n",
       " 'max_depth': None,\n",
       " 'max_features': None,\n",
       " 'max_leaf_nodes': None,\n",
       " 'min_impurity_decrease': 0.0,\n",
       " 'min_impurity_split': None,\n",
       " 'min_samples_leaf': 1,\n",
       " 'min_samples_split': 2,\n",
       " 'min_weight_fraction_leaf': 0.0,\n",
       " 'presort': 'deprecated',\n",
       " 'random_state': None,\n",
       " 'splitter': 'best'}"
      ]
     },
     "execution_count": 236,
     "metadata": {},
     "output_type": "execute_result"
    }
   ],
   "source": [
    "modelDT.get_params()"
   ]
  },
  {
   "cell_type": "code",
   "execution_count": 271,
   "metadata": {},
   "outputs": [
    {
     "name": "stdout",
     "output_type": "stream",
     "text": [
      "Fitting 3 folds for each of 4332 candidates, totalling 12996 fits\n"
     ]
    },
    {
     "name": "stderr",
     "output_type": "stream",
     "text": [
      "[Parallel(n_jobs=-1)]: Using backend LokyBackend with 4 concurrent workers.\n",
      "[Parallel(n_jobs=-1)]: Done  48 tasks      | elapsed:    7.4s\n",
      "[Parallel(n_jobs=-1)]: Done 2260 tasks      | elapsed:   16.3s\n",
      "[Parallel(n_jobs=-1)]: Done 6260 tasks      | elapsed:   26.1s\n",
      "[Parallel(n_jobs=-1)]: Done 11860 tasks      | elapsed:   40.8s\n",
      "[Parallel(n_jobs=-1)]: Done 12996 out of 12996 | elapsed:   46.7s finished\n"
     ]
    },
    {
     "data": {
      "text/plain": [
       "GridSearchCV(cv=3, estimator=DecisionTreeClassifier(random_state=42), iid=True,\n",
       "             n_jobs=-1,\n",
       "             param_grid={'criterion': ('gini', 'entropy'),\n",
       "                         'max_depth': [1, 2, 3, 4, 5, 6, 7, 8, 9, 10, 11, 12,\n",
       "                                       13, 14, 15, 16, 17, 18, 19],\n",
       "                         'min_samples_leaf': [1, 2, 3, 4, 5, 6, 7, 8, 9, 10, 11,\n",
       "                                              12, 13, 14, 15, 16, 17, 18, 19],\n",
       "                         'min_samples_split': [2, 3, 4],\n",
       "                         'splitter': ('best', 'random')},\n",
       "             scoring='accuracy', verbose=1)"
      ]
     },
     "execution_count": 271,
     "metadata": {},
     "output_type": "execute_result"
    }
   ],
   "source": [
    "params = {\"criterion\":(\"gini\", \"entropy\"), \"splitter\":(\"best\", \"random\"),\"max_depth\":(list(range(1, 20))), \"min_samples_split\":[2, 3, 4], \"min_samples_leaf\":list(range(1, 20))}\n",
    "\n",
    "tree = DecisionTreeClassifier(random_state=42)\n",
    "dtgrid = GridSearchCV(tree, params, scoring=\"accuracy\", n_jobs=-1, verbose=1, cv=3, iid=True)\n",
    "dtgrid.fit(x_train, y_train)"
   ]
  },
  {
   "cell_type": "code",
   "execution_count": 272,
   "metadata": {},
   "outputs": [
    {
     "data": {
      "text/plain": [
       "DecisionTreeClassifier(criterion='entropy', max_depth=4, min_samples_leaf=7,\n",
       "                       random_state=42)"
      ]
     },
     "execution_count": 272,
     "metadata": {},
     "output_type": "execute_result"
    }
   ],
   "source": [
    "dtgrid.best_estimator_"
   ]
  },
  {
   "cell_type": "code",
   "execution_count": 277,
   "metadata": {},
   "outputs": [
    {
     "data": {
      "text/plain": [
       "array([0, 0, 1, 0, 1, 1, 1, 0, 0, 0, 1, 0, 1, 0, 1, 1, 1, 0, 0, 0, 1, 0,\n",
       "       1, 1, 0, 0, 0, 1, 0, 1, 0, 0, 0, 0, 0, 0, 0, 0, 1, 1, 0, 1, 1, 1,\n",
       "       1, 0, 1, 1, 0, 0, 0, 0, 1, 1, 0, 0, 0, 1, 0, 0, 0])"
      ]
     },
     "execution_count": 277,
     "metadata": {},
     "output_type": "execute_result"
    }
   ],
   "source": [
    "tree = DecisionTreeClassifier(criterion='entropy', \n",
    "                              max_depth=4,\n",
    "                              min_samples_leaf=7, \n",
    "                              random_state=42)\n",
    "tree.fit(x_train, y_train)\n",
    "y_predDT2 = tree.predict(x_test)\n",
    "y_predDT2"
   ]
  },
  {
   "cell_type": "code",
   "execution_count": 278,
   "metadata": {},
   "outputs": [
    {
     "data": {
      "text/plain": [
       "array([[27,  2],\n",
       "       [ 9, 23]])"
      ]
     },
     "execution_count": 278,
     "metadata": {},
     "output_type": "execute_result"
    }
   ],
   "source": [
    "confusion_matrix(y_test, y_predDT2)"
   ]
  },
  {
   "cell_type": "code",
   "execution_count": 279,
   "metadata": {},
   "outputs": [
    {
     "data": {
      "image/png": "[encoded data removed]",
      "text/plain": [
       "<Figure size 576x360 with 2 Axes>"
      ]
     },
     "metadata": {
      "needs_background": "dark"
     },
     "output_type": "display_data"
    }
   ],
   "source": [
    "f, ax = plt.subplots(figsize=(8,5))\n",
    "sns.heatmap(confusion_matrix(y_test, y_predDT2), annot=True, fmt='.0f', ax=ax)\n",
    "plt.xlabel('y Prediksi')\n",
    "plt.ylabel('y Aktual')\n",
    "plt.show()"
   ]
  },
  {
   "cell_type": "code",
   "execution_count": 297,
   "metadata": {},
   "outputs": [
    {
     "data": {
      "text/html": [
       "<div>\n",
       "<style scoped>\n",
       "    .dataframe tbody tr th:only-of-type {\n",
       "        vertical-align: middle;\n",
       "    }\n",
       "\n",
       "    .dataframe tbody tr th {\n",
       "        vertical-align: top;\n",
       "    }\n",
       "\n",
       "    .dataframe thead th {\n",
       "        text-align: right;\n",
       "    }\n",
       "</style>\n",
       "<table border=\"1\" class=\"dataframe\">\n",
       "  <thead>\n",
       "    <tr style=\"text-align: right;\">\n",
       "      <th></th>\n",
       "      <th>Score (%)</th>\n",
       "    </tr>\n",
       "  </thead>\n",
       "  <tbody>\n",
       "    <tr>\n",
       "      <th>accuracy</th>\n",
       "      <td>81.967213</td>\n",
       "    </tr>\n",
       "    <tr>\n",
       "      <th>recall</th>\n",
       "      <td>71.875000</td>\n",
       "    </tr>\n",
       "    <tr>\n",
       "      <th>precision</th>\n",
       "      <td>92.000000</td>\n",
       "    </tr>\n",
       "    <tr>\n",
       "      <th>roc_auc_score</th>\n",
       "      <td>82.489224</td>\n",
       "    </tr>\n",
       "    <tr>\n",
       "      <th>f1 score</th>\n",
       "      <td>80.701754</td>\n",
       "    </tr>\n",
       "  </tbody>\n",
       "</table>\n",
       "</div>"
      ],
      "text/plain": [
       "               Score (%)\n",
       "accuracy       81.967213\n",
       "recall         71.875000\n",
       "precision      92.000000\n",
       "roc_auc_score  82.489224\n",
       "f1 score       80.701754"
      ]
     },
     "execution_count": 297,
     "metadata": {},
     "output_type": "execute_result"
    }
   ],
   "source": [
    "DT2 =pd.DataFrame(data = [accuracy_score(y_test, y_predDT2)*100, recall_score(y_test, y_predDT2)*100,\n",
    "                     precision_score(y_test, y_predDT2)*100, roc_auc_score(y_test, y_predDT2)*100,\n",
    "                    f1_score(y_test, y_predDT2)*100],\n",
    "             index = ['accuracy', 'recall', 'precision', 'roc_auc_score', 'f1 score'],\n",
    "             columns = ['Score (%)']\n",
    "            )\n",
    "DT2"
   ]
  },
  {
   "cell_type": "markdown",
   "metadata": {},
   "source": [
    "RANDOM FOREST"
   ]
  },
  {
   "cell_type": "code",
   "execution_count": 289,
   "metadata": {},
   "outputs": [],
   "source": [
    "n_estimators = [int(x) for x in np.linspace(start=200, stop=2000, num=10)]\n",
    "max_features = ['auto', 'sqrt']\n",
    "max_depth = [int(x) for x in np.linspace(10, 110, num=11)]\n",
    "max_depth.append(None)\n",
    "min_samples_split = [2, 5, 10]\n",
    "min_samples_leaf = [1, 2, 4]\n",
    "bootstrap = [True, False]\n",
    "\n",
    "random_grid = {'n_estimators': n_estimators, 'max_features': max_features,\n",
    "               'max_depth': max_depth, 'min_samples_split': min_samples_split,\n",
    "               'min_samples_leaf': min_samples_leaf, 'bootstrap': bootstrap}\n",
    "\n",
    "rf_random = GridSearchCV(rand_forest, params, scoring=\"accuracy\", n_jobs=-1, verbose=1, cv=3, iid=True)\n",
    "# rf_random.fit(x_train, y_train)\n"
   ]
  },
  {
   "cell_type": "code",
   "execution_count": 291,
   "metadata": {},
   "outputs": [
    {
     "data": {
      "text/plain": [
       "array([0, 0, 1, 0, 1, 1, 1, 0, 0, 1, 1, 0, 1, 0, 1, 1, 1, 0, 0, 0, 1, 0,\n",
       "       1, 1, 1, 1, 0, 1, 0, 1, 0, 0, 0, 0, 1, 0, 1, 1, 1, 1, 1, 1, 1, 1,\n",
       "       1, 0, 1, 1, 0, 0, 0, 0, 1, 1, 0, 0, 0, 1, 0, 1, 1])"
      ]
     },
     "execution_count": 291,
     "metadata": {},
     "output_type": "execute_result"
    }
   ],
   "source": [
    "rand_forest = RandomForestClassifier(bootstrap=True,\n",
    "                                     max_depth=70, \n",
    "                                     max_features='auto', \n",
    "                                     min_samples_leaf=4, \n",
    "                                     min_samples_split=10,\n",
    "                                     n_estimators=400)\n",
    "rand_forest.fit(x_train, y_train)\n",
    "y_predRF2 = rand_forest.predict(x_test)\n",
    "y_predRF2"
   ]
  },
  {
   "cell_type": "code",
   "execution_count": 292,
   "metadata": {},
   "outputs": [
    {
     "data": {
      "text/plain": [
       "array([[24,  5],\n",
       "       [ 3, 29]])"
      ]
     },
     "execution_count": 292,
     "metadata": {},
     "output_type": "execute_result"
    }
   ],
   "source": [
    "confusion_matrix(y_test, y_predRF2)"
   ]
  },
  {
   "cell_type": "code",
   "execution_count": 293,
   "metadata": {},
   "outputs": [
    {
     "data": {
      "image/png": "[encoded data removed]",
      "text/plain": [
       "<Figure size 576x360 with 2 Axes>"
      ]
     },
     "metadata": {
      "needs_background": "dark"
     },
     "output_type": "display_data"
    }
   ],
   "source": [
    "f, ax = plt.subplots(figsize=(8,5))\n",
    "sns.heatmap(confusion_matrix(y_test, y_predRF2), annot=True, fmt='.0f', ax=ax)\n",
    "plt.xlabel('y Prediksi')\n",
    "plt.ylabel('y Aktual')\n",
    "plt.show()"
   ]
  },
  {
   "cell_type": "code",
   "execution_count": 296,
   "metadata": {},
   "outputs": [
    {
     "data": {
      "text/html": [
       "<div>\n",
       "<style scoped>\n",
       "    .dataframe tbody tr th:only-of-type {\n",
       "        vertical-align: middle;\n",
       "    }\n",
       "\n",
       "    .dataframe tbody tr th {\n",
       "        vertical-align: top;\n",
       "    }\n",
       "\n",
       "    .dataframe thead th {\n",
       "        text-align: right;\n",
       "    }\n",
       "</style>\n",
       "<table border=\"1\" class=\"dataframe\">\n",
       "  <thead>\n",
       "    <tr style=\"text-align: right;\">\n",
       "      <th></th>\n",
       "      <th>Score (%)</th>\n",
       "    </tr>\n",
       "  </thead>\n",
       "  <tbody>\n",
       "    <tr>\n",
       "      <th>accuracy</th>\n",
       "      <td>81.967213</td>\n",
       "    </tr>\n",
       "    <tr>\n",
       "      <th>recall</th>\n",
       "      <td>71.875000</td>\n",
       "    </tr>\n",
       "    <tr>\n",
       "      <th>precision</th>\n",
       "      <td>92.000000</td>\n",
       "    </tr>\n",
       "    <tr>\n",
       "      <th>roc_auc_score</th>\n",
       "      <td>82.489224</td>\n",
       "    </tr>\n",
       "    <tr>\n",
       "      <th>f1 score</th>\n",
       "      <td>80.701754</td>\n",
       "    </tr>\n",
       "  </tbody>\n",
       "</table>\n",
       "</div>"
      ],
      "text/plain": [
       "               Score (%)\n",
       "accuracy       81.967213\n",
       "recall         71.875000\n",
       "precision      92.000000\n",
       "roc_auc_score  82.489224\n",
       "f1 score       80.701754"
      ]
     },
     "execution_count": 296,
     "metadata": {},
     "output_type": "execute_result"
    }
   ],
   "source": [
    "RF2=pd.DataFrame(data = [accuracy_score(y_test, y_predDT2)*100, recall_score(y_test, y_predDT2)*100,\n",
    "                     precision_score(y_test, y_predDT2)*100, roc_auc_score(y_test, y_predDT2)*100,\n",
    "                    f1_score(y_test, y_predDT2)*100],\n",
    "             index = ['accuracy', 'recall', 'precision', 'roc_auc_score', 'f1 score'],\n",
    "             columns = ['Score (%)']\n",
    "            )\n",
    "RF2"
   ]
  },
  {
   "cell_type": "markdown",
   "metadata": {},
   "source": [
    "# Untuk Classification case :\n",
    "\n",
    "# Gunakan Confusion Metrics atau Classification Report\n",
    "\n",
    "# Jelaskan Maksud dari hasil evaluation metrics (Confusion Matrix & Classification Report )tersebut\n",
    "\n",
    "# Tentukan jenis evaluation metrics yang akan anda fokuskan dan jelaskan alasannya"
   ]
  },
  {
   "cell_type": "markdown",
   "metadata": {},
   "source": [
    "confusion matrix adalah Salah satu teknik yang dapat digunakan untuk mengukur kinerja suatu model khusunya kasus klasifikasi (supervised learning). memberi informasi tentang kesalahan yang dibuat oleh model tetapi juga jenis kesalahan yang dibuat. biasanya gambaran hasilnya itu kayak tabel matrix yang terdiri dari 4 istilah True Positive (TP), True Negative (TN), False Positive (FP) dan False Negative (FN). \n",
    "\n",
    "TP = data positif yang diprediksi benar.\n",
    "misalkan prediksi sakit jantung. pasien menderita jantung, nah hasil modelnya juga berkata demikian\n",
    "TN = data negatif yang diprediksi benar.\n",
    "misalkan pasien ga sakit jantung . nah model nya hasinya juga menyatakan demikian\n",
    "FP = data negatif namun diprediksi positif. \n",
    "misalkan pasien nya ga menderita sakit jantung. tp modelnya prediksi orangnya sakit jantung\n",
    "FN = data positif namun diprediksi negatif. \n",
    "misalkan pasien menderita sakit jantung tp diprediksi ga sakit jantung\n",
    "\n",
    "mengukur performa metrix dari confusion matrix itu ada accuracy, precision dan recall\n",
    "\n",
    "akurasi : gambarin seberapa akuratnnya model dapat mengklaisifikasikan dengan benar. ratio prediksi benar(positif dan negatif) dengan keseluruhan data.  \n",
    "\n",
    "Precision : gambarin tingkat keakuratan antara data yang diminta dengan hasil prediksi yang diberikan oleh model. Maka, precision merupakan rasio prediksi benar positif dibandingkan dengan keseluruhan hasil yang diprediksi positf. \n",
    "\n",
    "Recall : gambarin keberhasilan model dalam menemukan kembali sebuah informasi. Maka, recall merupakan rasio prediksi benar positif dibandingkan dengan keseluruhan data yang benar positif\n",
    "\n",
    "f1 score: rata2 harmonik dari precision dan recall\n",
    "\n",
    "evaluation matrix yang saya fokuskan disini adalah precision dan recall karena nilai precision dapat menjawab pertanyaan “Berapa persen pasien yang benar menderita sakit jantung dari keseluruhan pasien yang diprediksi menderita jantung?” dan nilai recall dapat menjawab pertanyaan “Berapa persen pasien yang diprediksi sakit jantung dibandingkan keseluruhan pasien yang sebenarnya menderita sakit jantung”."
   ]
  },
  {
   "cell_type": "markdown",
   "metadata": {},
   "source": [
    "# Lakukan Perbandingan seluruh model yg digunakan, dan pilih yg terbaik, Kemudian Export Model (5 point)"
   ]
  },
  {
   "cell_type": "code",
   "execution_count": 302,
   "metadata": {},
   "outputs": [
    {
     "name": "stdout",
     "output_type": "stream",
     "text": [
      "RF\n",
      "\n",
      "               Score (%)\n",
      "accuracy       81.967213\n",
      "recall         71.875000\n",
      "precision      92.000000\n",
      "roc_auc_score  82.489224\n",
      "f1 score       80.701754\n",
      "DT\n",
      "\n",
      "               Score (%)\n",
      "accuracy       81.967213\n",
      "recall         71.875000\n",
      "precision      92.000000\n",
      "roc_auc_score  82.489224\n",
      "f1 score       80.701754\n",
      "LR\n",
      "\n",
      "               Score (%)\n",
      "accuracy       86.885246\n",
      "recall         90.625000\n",
      "precision      85.294118\n",
      "roc_auc_score  86.691810\n",
      "f1 score       87.878788\n"
     ]
    }
   ],
   "source": [
    "print(\"RF\\n\")\n",
    "print(RF2)\n",
    "print(\"DT\\n\")\n",
    "print(DT2)\n",
    "print(\"LR\\n\")\n",
    "print(LR2)"
   ]
  },
  {
   "cell_type": "code",
   "execution_count": 305,
   "metadata": {},
   "outputs": [],
   "source": [
    "with open('modelDT','wb') as f:\n",
    "    pickle.dump(DT2,f)"
   ]
  },
  {
   "cell_type": "code",
   "execution_count": 306,
   "metadata": {},
   "outputs": [],
   "source": [
    "with open('modelRF','wb') as f:\n",
    "    pickle.dump(RF2,f)"
   ]
  },
  {
   "cell_type": "code",
   "execution_count": 307,
   "metadata": {},
   "outputs": [],
   "source": [
    "with open('modelLR','wb') as f:\n",
    "    pickle.dump(LR2,f)"
   ]
  },
  {
   "cell_type": "markdown",
   "metadata": {},
   "source": [
    "\n",
    "# Buat Kesimpulan dan Saran untuk Perusahaan sesuai dengan Problem, Goals, EDA dan Model yang telah anda buat (10 point)"
   ]
  },
  {
   "cell_type": "markdown",
   "metadata": {},
   "source": [
    "- mendapatkan usia dan gender yang paling berpotensi terdampak penyakit jantung\n",
    "- mendapatkan faktor-faktor lain yang mempengaruhi penyakit jantung\n",
    "- mendapatkan model untuk mengklasifikasikan pasien yang mengidap penyakit jantung dan tidak"
   ]
  },
  {
   "cell_type": "markdown",
   "metadata": {},
   "source": [
    "## Berdasarkan data diatas ditemukan bahwa, umur pasien yang paling banyak berpotensi terkena penyakit jantung adalah 51, 54,41, dan 44. Sedangkan untuk yang paling teridentifikasi tidak berpotensi adalah di umur 58,57,60, dan 59. Angka target tersebut mulai tidak stagnan setelah menginjak umur 40 tahun hingga 67. Berdasarkan urutan 10 serangan jantung, pria ebih banyak mengidap serangan jantung. Dapat kita simpulkan bahwa laki-laki memiliki kecenderungan untuk mengidap jantung lebih besar dibandingkan wanita dengan total 206 jiwa sedangkan wanita 96 jiwa. Lalu Type Chest Pain 2 atau nonanginal memiliki kecenderungan untuk mengidap jantung. Nyeri dada sangat mungkin nonanginal jika durasinya lebih dari 30 menit atau kurang dari 5 detik, meningkat dengan inspirasi, dapat dibawa dengan satu gerakan batang atau lengan, dapat dibawa oleh tekanan jari lokal, atau membungkuk ke depan, atau dapat lega segera berbaring. Lalu untuk tipe 0 atau typical memiliki angka tidak terdeteksi jantung yang tinggi. Pria yang memiliki nyeri dada tipe 0 menderita serangan jantung paling tinggi dan tipe 2 tertinggi kedua. Kecenderungan ini sama untuk wanita. Plot diatas menunjukkan bahwa perempuan memiliki tresbps lebih tinggi daripada pria dalam kasus tidak menderita penyakit jantung, sedangkan pria dan wanita memiliki hampir sama tresbps dalam kasus menderita penyakit jantung. Juga, dalam kasus menderita penyakit jantung, pasien memiliki tresbps sedikit lebih rendah dibandingkan dengan pasien yang tidak menderita penyakit jantung. Berdasarkan plot di atas antara kolesterol tingkat dan target menunjukkan bahwa pasien cenderung menderita penyakit jantung jika memiliki tingkat kolesterol yang lebih tinggi dibandingkan dengan pasien dengan tidak menderita.Oleh karena itu, kita dapat menyimpulkan dari plot di atas bahwa tingkat kolesterol memainkan peran penting dalam menentukan penyakit jantung. Kita semua harus menjaga tingkat kolesterol kita dalam kontrol mungkin. Secara general dapat dilihat bahwa pria memiliki angka kolesterol lebih tinggi daripada wanita. plot di atas menunjukkan bahwa semakin kurang exercise maka semakin berpotensi untuk menderita serangan jantung. Terutama untuk pria. ## Berdasarkan data diatas, pengaruhnya terlihat paling tinggi pada slope dengan tinggi 1 dan 2 sehingga maka semakin tinggi slope maka semakin besar pula kesempatan untuk terkena serangan jantung."
   ]
  },
  {
   "cell_type": "markdown",
   "metadata": {},
   "source": [
    "Saran "
   ]
  },
  {
   "cell_type": "markdown",
   "metadata": {},
   "source": [
    "# Berdasarkan data diatas serta penelusuran lebih lanjut dengan referensi lain. Ditemukan ada berbagai cara untuk pencegahan penyakit jantung yang dapat dilakukan, di antaranya:\n",
    "\n",
    "# Untuk perusahaan, ada beberapa faktor yang dapat mengidentifikasi jantung seperti diatas. Hal-hal yang harus disarankan oleh pihak rumah sakit terhadap pasien adalah menerapkan pola hidup sehat dan exercise dengan mengurangi makanan berkolesterol tinggi serta melakukan olahraga secara rutin.Berhenti merokok karena menyebabkan mudahnya nonanginal.Lalu diharuskan juga mengurangi konsumsi minuman keras. Khusus untuk yang telah menderita, pengidap angina dianjurkan untuk meminum obat-obatan yang diberikan oleh dokter dan sesuai dengan dosis. Asupan makanan juga berpotensi untuk meningkatkan kadar kolesterol, tkanan darah, dan peradangan. Maka dari itu diharuskan perbanyak makanan sehat setiap harinya seperti dilansir Healthline, sayuran berdaun hijau seperti bayam, kale, sawi terbukti dapat menurunkan risiko penyakit jantung. Sayuran ini merupakan sumber vitamin K, mineral, dan antioksidan yang bisa melindungi pembuluh darah arteri dan membantu proses pembekuan darah. Kandungan nitrat dalam sayuran berdaun hijau juga terbukti bisa membantu menurunkan tekanan darah, mengurangi kekakuan arteri, dan meningkatkan fungsi sel pelapis pembuluh darah. Memakan lebih banyak biji-bijian seperti beras merah, gandum utuh, sampai quinoa lebih kaya serat dibandingkan biji-bijian olahan. Makanan ini dapat menurunkan kolesterol jahat (LDL), sehingga bisa menurunkan risiko penyakit jantung. Saat memilih biji-bijian, pastikan Anda cermat. Pilih yang mengandung gandum utuh (whole grain), bukan produk gandum seperti terigu."
   ]
  }
 ],
 "metadata": {
  "kernelspec": {
   "display_name": "Python 3",
   "language": "python",
   "name": "python3"
  },
  "language_info": {
   "codemirror_mode": {
    "name": "ipython",
    "version": 3
   },
   "file_extension": ".py",
   "mimetype": "text/x-python",
   "name": "python",
   "nbconvert_exporter": "python",
   "pygments_lexer": "ipython3",
   "version": "3.7.6"
  }
 },
 "nbformat": 4,
 "nbformat_minor": 4
}
